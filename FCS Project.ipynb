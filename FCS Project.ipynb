{
 "cells": [
  {
   "cell_type": "markdown",
   "metadata": {},
   "source": [
    "### Foundations of Computer Science \n",
    "#### Jacopo Roberto Nicosia\n",
    "#### Matricola 861812"
   ]
  },
  {
   "cell_type": "code",
   "execution_count": 1,
   "metadata": {},
   "outputs": [],
   "source": [
    "import pandas as pd\n",
    "import numpy as np\n",
    "import datetime as dt"
   ]
  },
  {
   "cell_type": "code",
   "execution_count": 2,
   "metadata": {},
   "outputs": [],
   "source": [
    "file1 = r\"C:\\Users\\jacop\\Desktop\\Data Science\\1° Semestre\\Fundations of CS\\Progetto\\additional-kiva-snapshot\\loans_lenders.csv\"\n",
    "file2 = r\"C:\\Users\\jacop\\Desktop\\Data Science\\1° Semestre\\Fundations of CS\\Progetto\\additional-kiva-snapshot\\loans.csv\"\n",
    "file3 = r\"C:\\Users\\jacop\\Desktop\\Data Science\\1° Semestre\\Fundations of CS\\Progetto\\additional-kiva-snapshot\\lenders.csv\"\n",
    "file4 = r\"C:\\Users\\jacop\\Desktop\\Data Science\\1° Semestre\\Fundations of CS\\Progetto\\additional-kiva-snapshot\\country_stats.csv\""
   ]
  },
  {
   "cell_type": "code",
   "execution_count": 3,
   "metadata": {},
   "outputs": [],
   "source": [
    "loans_lenders = pd.read_csv(file1)\n",
    "loans = pd.read_csv(file2, parse_dates=[\"disburse_time\", \"planned_expiration_time\"])\n",
    "lenders = pd.read_csv(file3)\n",
    "country_stat = pd.read_csv(file4)"
   ]
  },
  {
   "cell_type": "markdown",
   "metadata": {},
   "source": [
    "#### 1° Point\n",
    "#### Normalize the loans_lenders table.\n",
    "#### ( Each row must have one \"loan_id\" and one \"lender\")"
   ]
  },
  {
   "cell_type": "code",
   "execution_count": 4,
   "metadata": {},
   "outputs": [],
   "source": [
    "loans_lenders_norm = loans_lenders.assign(lenders=loans_lenders.lenders.str.split(',')).explode('lenders').reset_index(drop=True)"
   ]
  },
  {
   "cell_type": "code",
   "execution_count": 5,
   "metadata": {},
   "outputs": [
    {
     "data": {
      "text/html": [
       "<div>\n",
       "<style scoped>\n",
       "    .dataframe tbody tr th:only-of-type {\n",
       "        vertical-align: middle;\n",
       "    }\n",
       "\n",
       "    .dataframe tbody tr th {\n",
       "        vertical-align: top;\n",
       "    }\n",
       "\n",
       "    .dataframe thead th {\n",
       "        text-align: right;\n",
       "    }\n",
       "</style>\n",
       "<table border=\"1\" class=\"dataframe\">\n",
       "  <thead>\n",
       "    <tr style=\"text-align: right;\">\n",
       "      <th></th>\n",
       "      <th>loan_id</th>\n",
       "      <th>lenders</th>\n",
       "    </tr>\n",
       "  </thead>\n",
       "  <tbody>\n",
       "    <tr>\n",
       "      <th>0</th>\n",
       "      <td>483693</td>\n",
       "      <td>muc888</td>\n",
       "    </tr>\n",
       "    <tr>\n",
       "      <th>1</th>\n",
       "      <td>483693</td>\n",
       "      <td>sam4326</td>\n",
       "    </tr>\n",
       "    <tr>\n",
       "      <th>2</th>\n",
       "      <td>483693</td>\n",
       "      <td>camaran3922</td>\n",
       "    </tr>\n",
       "    <tr>\n",
       "      <th>3</th>\n",
       "      <td>483693</td>\n",
       "      <td>lachheb1865</td>\n",
       "    </tr>\n",
       "    <tr>\n",
       "      <th>4</th>\n",
       "      <td>483693</td>\n",
       "      <td>rebecca3499</td>\n",
       "    </tr>\n",
       "  </tbody>\n",
       "</table>\n",
       "</div>"
      ],
      "text/plain": [
       "   loan_id       lenders\n",
       "0   483693        muc888\n",
       "1   483693       sam4326\n",
       "2   483693   camaran3922\n",
       "3   483693   lachheb1865\n",
       "4   483693   rebecca3499"
      ]
     },
     "execution_count": 5,
     "metadata": {},
     "output_type": "execute_result"
    }
   ],
   "source": [
    "loans_lenders_norm.head()"
   ]
  },
  {
   "cell_type": "markdown",
   "metadata": {},
   "source": [
    "#### 2° Point\n",
    "#### For each loan add a column \"duration\" corrisponding to the number of days between \"disburse time\" and \"planned expiration time\".\n",
    "#### If any of those dates is missing also the duration must be missing."
   ]
  },
  {
   "cell_type": "code",
   "execution_count": 6,
   "metadata": {},
   "outputs": [],
   "source": [
    "# this allows me to have only year/month/day in datetime format\n",
    "loans['disburse_time'] = pd.to_datetime(loans['disburse_time'].dt.date) \n",
    "loans['planned_expiration_time'] = pd.to_datetime(loans['planned_expiration_time'].dt.date)"
   ]
  },
  {
   "cell_type": "code",
   "execution_count": 7,
   "metadata": {},
   "outputs": [],
   "source": [
    "loans_duration = loans[['loan_id', 'disburse_time','planned_expiration_time']]"
   ]
  },
  {
   "cell_type": "code",
   "execution_count": 8,
   "metadata": {},
   "outputs": [],
   "source": [
    "# Some 'planned_expiration_time' occurs before 'disburse_time'\n",
    "# Fixing the problem by switching the dates "
   ]
  },
  {
   "cell_type": "code",
   "execution_count": 9,
   "metadata": {},
   "outputs": [],
   "source": [
    "temp = loans_duration.loc[loans_duration['disburse_time'] > loans_duration['planned_expiration_time']]"
   ]
  },
  {
   "cell_type": "code",
   "execution_count": 10,
   "metadata": {},
   "outputs": [],
   "source": [
    "temp1 = temp.rename(columns = {'disburse_time':'planned_expiration_time', 'planned_expiration_time':'disburse_time'})"
   ]
  },
  {
   "cell_type": "code",
   "execution_count": 11,
   "metadata": {},
   "outputs": [
    {
     "name": "stderr",
     "output_type": "stream",
     "text": [
      "C:\\Users\\jacop\\Anaconda3\\lib\\site-packages\\pandas\\core\\frame.py:5819: SettingWithCopyWarning: \n",
      "A value is trying to be set on a copy of a slice from a DataFrame.\n",
      "Try using .loc[row_indexer,col_indexer] = value instead\n",
      "\n",
      "See the caveats in the documentation: http://pandas.pydata.org/pandas-docs/stable/user_guide/indexing.html#returning-a-view-versus-a-copy\n",
      "  self[col] = expressions.where(mask, this, that)\n"
     ]
    }
   ],
   "source": [
    "loans_duration.update(temp1)"
   ]
  },
  {
   "cell_type": "code",
   "execution_count": 12,
   "metadata": {},
   "outputs": [],
   "source": [
    "loans_duration = loans_duration.assign(duration = loans_duration['planned_expiration_time'] - loans_duration['disburse_time'])"
   ]
  },
  {
   "cell_type": "code",
   "execution_count": 13,
   "metadata": {},
   "outputs": [
    {
     "data": {
      "text/html": [
       "<div>\n",
       "<style scoped>\n",
       "    .dataframe tbody tr th:only-of-type {\n",
       "        vertical-align: middle;\n",
       "    }\n",
       "\n",
       "    .dataframe tbody tr th {\n",
       "        vertical-align: top;\n",
       "    }\n",
       "\n",
       "    .dataframe thead th {\n",
       "        text-align: right;\n",
       "    }\n",
       "</style>\n",
       "<table border=\"1\" class=\"dataframe\">\n",
       "  <thead>\n",
       "    <tr style=\"text-align: right;\">\n",
       "      <th></th>\n",
       "      <th>loan_id</th>\n",
       "      <th>disburse_time</th>\n",
       "      <th>planned_expiration_time</th>\n",
       "      <th>duration</th>\n",
       "    </tr>\n",
       "  </thead>\n",
       "  <tbody>\n",
       "    <tr>\n",
       "      <th>0</th>\n",
       "      <td>657307.0</td>\n",
       "      <td>2013-12-22</td>\n",
       "      <td>2014-02-14</td>\n",
       "      <td>54 days</td>\n",
       "    </tr>\n",
       "    <tr>\n",
       "      <th>1</th>\n",
       "      <td>657259.0</td>\n",
       "      <td>2013-12-20</td>\n",
       "      <td>2014-03-26</td>\n",
       "      <td>96 days</td>\n",
       "    </tr>\n",
       "    <tr>\n",
       "      <th>2</th>\n",
       "      <td>658010.0</td>\n",
       "      <td>2014-01-09</td>\n",
       "      <td>2014-02-15</td>\n",
       "      <td>37 days</td>\n",
       "    </tr>\n",
       "    <tr>\n",
       "      <th>3</th>\n",
       "      <td>659347.0</td>\n",
       "      <td>2014-01-17</td>\n",
       "      <td>2014-02-21</td>\n",
       "      <td>35 days</td>\n",
       "    </tr>\n",
       "    <tr>\n",
       "      <th>4</th>\n",
       "      <td>656933.0</td>\n",
       "      <td>2013-12-17</td>\n",
       "      <td>2014-02-13</td>\n",
       "      <td>58 days</td>\n",
       "    </tr>\n",
       "  </tbody>\n",
       "</table>\n",
       "</div>"
      ],
      "text/plain": [
       "    loan_id disburse_time planned_expiration_time duration\n",
       "0  657307.0    2013-12-22              2014-02-14  54 days\n",
       "1  657259.0    2013-12-20              2014-03-26  96 days\n",
       "2  658010.0    2014-01-09              2014-02-15  37 days\n",
       "3  659347.0    2014-01-17              2014-02-21  35 days\n",
       "4  656933.0    2013-12-17              2014-02-13  58 days"
      ]
     },
     "execution_count": 13,
     "metadata": {},
     "output_type": "execute_result"
    }
   ],
   "source": [
    "loans_duration.head()"
   ]
  },
  {
   "cell_type": "code",
   "execution_count": 14,
   "metadata": {},
   "outputs": [],
   "source": [
    "# Also checking the second condition of the assignment : \"If any of those dates is missing also the duration must be missing.\""
   ]
  },
  {
   "cell_type": "code",
   "execution_count": 15,
   "metadata": {},
   "outputs": [
    {
     "data": {
      "text/html": [
       "<div>\n",
       "<style scoped>\n",
       "    .dataframe tbody tr th:only-of-type {\n",
       "        vertical-align: middle;\n",
       "    }\n",
       "\n",
       "    .dataframe tbody tr th {\n",
       "        vertical-align: top;\n",
       "    }\n",
       "\n",
       "    .dataframe thead th {\n",
       "        text-align: right;\n",
       "    }\n",
       "</style>\n",
       "<table border=\"1\" class=\"dataframe\">\n",
       "  <thead>\n",
       "    <tr style=\"text-align: right;\">\n",
       "      <th></th>\n",
       "      <th>loan_id</th>\n",
       "      <th>disburse_time</th>\n",
       "      <th>planned_expiration_time</th>\n",
       "      <th>duration</th>\n",
       "    </tr>\n",
       "  </thead>\n",
       "  <tbody>\n",
       "    <tr>\n",
       "      <th>64</th>\n",
       "      <td>251406.0</td>\n",
       "      <td>2010-11-18</td>\n",
       "      <td>NaT</td>\n",
       "      <td>NaT</td>\n",
       "    </tr>\n",
       "    <tr>\n",
       "      <th>65</th>\n",
       "      <td>252537.0</td>\n",
       "      <td>2010-11-25</td>\n",
       "      <td>NaT</td>\n",
       "      <td>NaT</td>\n",
       "    </tr>\n",
       "    <tr>\n",
       "      <th>66</th>\n",
       "      <td>253044.0</td>\n",
       "      <td>2010-11-25</td>\n",
       "      <td>NaT</td>\n",
       "      <td>NaT</td>\n",
       "    </tr>\n",
       "    <tr>\n",
       "      <th>67</th>\n",
       "      <td>254012.0</td>\n",
       "      <td>2010-11-16</td>\n",
       "      <td>NaT</td>\n",
       "      <td>NaT</td>\n",
       "    </tr>\n",
       "    <tr>\n",
       "      <th>69</th>\n",
       "      <td>251336.0</td>\n",
       "      <td>2010-11-10</td>\n",
       "      <td>NaT</td>\n",
       "      <td>NaT</td>\n",
       "    </tr>\n",
       "  </tbody>\n",
       "</table>\n",
       "</div>"
      ],
      "text/plain": [
       "     loan_id disburse_time planned_expiration_time duration\n",
       "64  251406.0    2010-11-18                     NaT      NaT\n",
       "65  252537.0    2010-11-25                     NaT      NaT\n",
       "66  253044.0    2010-11-25                     NaT      NaT\n",
       "67  254012.0    2010-11-16                     NaT      NaT\n",
       "69  251336.0    2010-11-10                     NaT      NaT"
      ]
     },
     "execution_count": 15,
     "metadata": {},
     "output_type": "execute_result"
    }
   ],
   "source": [
    "loans_duration[loans_duration.duration.isnull()].head()"
   ]
  },
  {
   "cell_type": "markdown",
   "metadata": {},
   "source": [
    "#### 3° Point\n",
    "#### Find the lenders that have funded at least twice."
   ]
  },
  {
   "cell_type": "code",
   "execution_count": 16,
   "metadata": {},
   "outputs": [],
   "source": [
    "loans_status = loans[['loan_id', 'status']]"
   ]
  },
  {
   "cell_type": "code",
   "execution_count": 17,
   "metadata": {},
   "outputs": [],
   "source": [
    "loans_merged = pd.merge(loans_lenders_norm, loans_status, on = 'loan_id', how = 'left')"
   ]
  },
  {
   "cell_type": "code",
   "execution_count": 18,
   "metadata": {},
   "outputs": [],
   "source": [
    "# Dropping null values from 'status' \n",
    "loans_merged = loans_merged.dropna(subset=['status'])"
   ]
  },
  {
   "cell_type": "code",
   "execution_count": 19,
   "metadata": {},
   "outputs": [],
   "source": [
    "loans_funded = loans_merged.loc[loans_merged['status'] == 'funded']"
   ]
  },
  {
   "cell_type": "code",
   "execution_count": 20,
   "metadata": {},
   "outputs": [],
   "source": [
    "count = loans_funded['lenders'].value_counts()"
   ]
  },
  {
   "cell_type": "code",
   "execution_count": 21,
   "metadata": {},
   "outputs": [],
   "source": [
    "# Storing the output of the count in a better way, renaming the columns for what they are\n",
    "funded_twice = count[count>1].rename_axis('lenders').reset_index(name = 'number_of_loans')"
   ]
  },
  {
   "cell_type": "code",
   "execution_count": 22,
   "metadata": {},
   "outputs": [
    {
     "data": {
      "text/html": [
       "<div>\n",
       "<style scoped>\n",
       "    .dataframe tbody tr th:only-of-type {\n",
       "        vertical-align: middle;\n",
       "    }\n",
       "\n",
       "    .dataframe tbody tr th {\n",
       "        vertical-align: top;\n",
       "    }\n",
       "\n",
       "    .dataframe thead th {\n",
       "        text-align: right;\n",
       "    }\n",
       "</style>\n",
       "<table border=\"1\" class=\"dataframe\">\n",
       "  <thead>\n",
       "    <tr style=\"text-align: right;\">\n",
       "      <th></th>\n",
       "      <th>lenders</th>\n",
       "      <th>number_of_loans</th>\n",
       "    </tr>\n",
       "  </thead>\n",
       "  <tbody>\n",
       "    <tr>\n",
       "      <th>0</th>\n",
       "      <td>gooddogg1</td>\n",
       "      <td>142349</td>\n",
       "    </tr>\n",
       "    <tr>\n",
       "      <th>1</th>\n",
       "      <td>trolltech4460</td>\n",
       "      <td>139191</td>\n",
       "    </tr>\n",
       "    <tr>\n",
       "      <th>2</th>\n",
       "      <td>gmct</td>\n",
       "      <td>122156</td>\n",
       "    </tr>\n",
       "    <tr>\n",
       "      <th>3</th>\n",
       "      <td>nms</td>\n",
       "      <td>93283</td>\n",
       "    </tr>\n",
       "    <tr>\n",
       "      <th>4</th>\n",
       "      <td>themissionbeltco</td>\n",
       "      <td>70151</td>\n",
       "    </tr>\n",
       "  </tbody>\n",
       "</table>\n",
       "</div>"
      ],
      "text/plain": [
       "             lenders  number_of_loans\n",
       "0          gooddogg1           142349\n",
       "1      trolltech4460           139191\n",
       "2               gmct           122156\n",
       "3                nms            93283\n",
       "4   themissionbeltco            70151"
      ]
     },
     "execution_count": 22,
     "metadata": {},
     "output_type": "execute_result"
    }
   ],
   "source": [
    "funded_twice.head()"
   ]
  },
  {
   "cell_type": "markdown",
   "metadata": {},
   "source": [
    "#### 4° Point\n",
    "#### For each country, compute how many loans have involved that country as borrowers."
   ]
  },
  {
   "cell_type": "code",
   "execution_count": 23,
   "metadata": {},
   "outputs": [],
   "source": [
    "country = loans[['loan_id', 'country_code']]"
   ]
  },
  {
   "cell_type": "code",
   "execution_count": 24,
   "metadata": {},
   "outputs": [],
   "source": [
    "c_count = country['country_code'].value_counts()"
   ]
  },
  {
   "cell_type": "code",
   "execution_count": 25,
   "metadata": {},
   "outputs": [],
   "source": [
    "country_count = c_count.rename_axis('country_code').reset_index(name = 'number_of_loans')"
   ]
  },
  {
   "cell_type": "code",
   "execution_count": 26,
   "metadata": {},
   "outputs": [
    {
     "data": {
      "text/html": [
       "<div>\n",
       "<style scoped>\n",
       "    .dataframe tbody tr th:only-of-type {\n",
       "        vertical-align: middle;\n",
       "    }\n",
       "\n",
       "    .dataframe tbody tr th {\n",
       "        vertical-align: top;\n",
       "    }\n",
       "\n",
       "    .dataframe thead th {\n",
       "        text-align: right;\n",
       "    }\n",
       "</style>\n",
       "<table border=\"1\" class=\"dataframe\">\n",
       "  <thead>\n",
       "    <tr style=\"text-align: right;\">\n",
       "      <th></th>\n",
       "      <th>country_code</th>\n",
       "      <th>number_of_loans</th>\n",
       "    </tr>\n",
       "  </thead>\n",
       "  <tbody>\n",
       "    <tr>\n",
       "      <th>0</th>\n",
       "      <td>PH</td>\n",
       "      <td>285336</td>\n",
       "    </tr>\n",
       "    <tr>\n",
       "      <th>1</th>\n",
       "      <td>KE</td>\n",
       "      <td>143699</td>\n",
       "    </tr>\n",
       "    <tr>\n",
       "      <th>2</th>\n",
       "      <td>PE</td>\n",
       "      <td>86000</td>\n",
       "    </tr>\n",
       "    <tr>\n",
       "      <th>3</th>\n",
       "      <td>KH</td>\n",
       "      <td>79701</td>\n",
       "    </tr>\n",
       "    <tr>\n",
       "      <th>4</th>\n",
       "      <td>SV</td>\n",
       "      <td>64037</td>\n",
       "    </tr>\n",
       "  </tbody>\n",
       "</table>\n",
       "</div>"
      ],
      "text/plain": [
       "  country_code  number_of_loans\n",
       "0           PH           285336\n",
       "1           KE           143699\n",
       "2           PE            86000\n",
       "3           KH            79701\n",
       "4           SV            64037"
      ]
     },
     "execution_count": 26,
     "metadata": {},
     "output_type": "execute_result"
    }
   ],
   "source": [
    "country_count.head()"
   ]
  },
  {
   "cell_type": "markdown",
   "metadata": {},
   "source": [
    "#### 5° Point\n",
    "#### For each country, compute the overall amount of money borrowed."
   ]
  },
  {
   "cell_type": "code",
   "execution_count": 27,
   "metadata": {},
   "outputs": [],
   "source": [
    "# By the word \"overall\" I suppose that I don't have to consider the status of the loan\n",
    "# If not so, then I would have included in the DF the column for status and dropped all the loans not 'funded'\n",
    "\n",
    "country_borrow = loans[['loan_id', 'country_code', 'loan_amount']]"
   ]
  },
  {
   "cell_type": "code",
   "execution_count": 28,
   "metadata": {},
   "outputs": [],
   "source": [
    "country_borrow1 = country_borrow.groupby('country_code').sum()['loan_amount']"
   ]
  },
  {
   "cell_type": "code",
   "execution_count": 29,
   "metadata": {},
   "outputs": [],
   "source": [
    "country_borrow1 = country_borrow1.rename_axis('country_code').reset_index(name = 'money_borrowed')"
   ]
  },
  {
   "cell_type": "code",
   "execution_count": 30,
   "metadata": {},
   "outputs": [
    {
     "data": {
      "text/html": [
       "<div>\n",
       "<style scoped>\n",
       "    .dataframe tbody tr th:only-of-type {\n",
       "        vertical-align: middle;\n",
       "    }\n",
       "\n",
       "    .dataframe tbody tr th {\n",
       "        vertical-align: top;\n",
       "    }\n",
       "\n",
       "    .dataframe thead th {\n",
       "        text-align: right;\n",
       "    }\n",
       "</style>\n",
       "<table border=\"1\" class=\"dataframe\">\n",
       "  <thead>\n",
       "    <tr style=\"text-align: right;\">\n",
       "      <th></th>\n",
       "      <th>country_code</th>\n",
       "      <th>money_borrowed</th>\n",
       "    </tr>\n",
       "  </thead>\n",
       "  <tbody>\n",
       "    <tr>\n",
       "      <th>0</th>\n",
       "      <td>AF</td>\n",
       "      <td>1967950.0</td>\n",
       "    </tr>\n",
       "    <tr>\n",
       "      <th>1</th>\n",
       "      <td>AL</td>\n",
       "      <td>4307350.0</td>\n",
       "    </tr>\n",
       "    <tr>\n",
       "      <th>2</th>\n",
       "      <td>AM</td>\n",
       "      <td>22950475.0</td>\n",
       "    </tr>\n",
       "    <tr>\n",
       "      <th>3</th>\n",
       "      <td>AZ</td>\n",
       "      <td>14784625.0</td>\n",
       "    </tr>\n",
       "    <tr>\n",
       "      <th>4</th>\n",
       "      <td>BA</td>\n",
       "      <td>477250.0</td>\n",
       "    </tr>\n",
       "  </tbody>\n",
       "</table>\n",
       "</div>"
      ],
      "text/plain": [
       "  country_code  money_borrowed\n",
       "0           AF       1967950.0\n",
       "1           AL       4307350.0\n",
       "2           AM      22950475.0\n",
       "3           AZ      14784625.0\n",
       "4           BA        477250.0"
      ]
     },
     "execution_count": 30,
     "metadata": {},
     "output_type": "execute_result"
    }
   ],
   "source": [
    "country_borrow1.head()"
   ]
  },
  {
   "cell_type": "markdown",
   "metadata": {},
   "source": [
    "#### 6° Point\n",
    "#### Like the previous point, but expressed as a percentage of the overall amount lent."
   ]
  },
  {
   "cell_type": "code",
   "execution_count": 31,
   "metadata": {},
   "outputs": [],
   "source": [
    "tot_amount = country_borrow1['money_borrowed'].sum()"
   ]
  },
  {
   "cell_type": "code",
   "execution_count": 32,
   "metadata": {},
   "outputs": [],
   "source": [
    "country_borrow1['percentage'] = (country_borrow1['money_borrowed'] / tot_amount) * 100"
   ]
  },
  {
   "cell_type": "code",
   "execution_count": 33,
   "metadata": {},
   "outputs": [
    {
     "data": {
      "text/html": [
       "<div>\n",
       "<style scoped>\n",
       "    .dataframe tbody tr th:only-of-type {\n",
       "        vertical-align: middle;\n",
       "    }\n",
       "\n",
       "    .dataframe tbody tr th {\n",
       "        vertical-align: top;\n",
       "    }\n",
       "\n",
       "    .dataframe thead th {\n",
       "        text-align: right;\n",
       "    }\n",
       "</style>\n",
       "<table border=\"1\" class=\"dataframe\">\n",
       "  <thead>\n",
       "    <tr style=\"text-align: right;\">\n",
       "      <th></th>\n",
       "      <th>country_code</th>\n",
       "      <th>money_borrowed</th>\n",
       "      <th>percentage</th>\n",
       "    </tr>\n",
       "  </thead>\n",
       "  <tbody>\n",
       "    <tr>\n",
       "      <th>0</th>\n",
       "      <td>AF</td>\n",
       "      <td>1967950.0</td>\n",
       "      <td>0.166578</td>\n",
       "    </tr>\n",
       "    <tr>\n",
       "      <th>1</th>\n",
       "      <td>AL</td>\n",
       "      <td>4307350.0</td>\n",
       "      <td>0.364598</td>\n",
       "    </tr>\n",
       "    <tr>\n",
       "      <th>2</th>\n",
       "      <td>AM</td>\n",
       "      <td>22950475.0</td>\n",
       "      <td>1.942654</td>\n",
       "    </tr>\n",
       "    <tr>\n",
       "      <th>3</th>\n",
       "      <td>AZ</td>\n",
       "      <td>14784625.0</td>\n",
       "      <td>1.251452</td>\n",
       "    </tr>\n",
       "    <tr>\n",
       "      <th>4</th>\n",
       "      <td>BA</td>\n",
       "      <td>477250.0</td>\n",
       "      <td>0.040397</td>\n",
       "    </tr>\n",
       "  </tbody>\n",
       "</table>\n",
       "</div>"
      ],
      "text/plain": [
       "  country_code  money_borrowed  percentage\n",
       "0           AF       1967950.0    0.166578\n",
       "1           AL       4307350.0    0.364598\n",
       "2           AM      22950475.0    1.942654\n",
       "3           AZ      14784625.0    1.251452\n",
       "4           BA        477250.0    0.040397"
      ]
     },
     "execution_count": 33,
     "metadata": {},
     "output_type": "execute_result"
    }
   ],
   "source": [
    "country_borrow1.head()"
   ]
  },
  {
   "cell_type": "markdown",
   "metadata": {},
   "source": [
    "#### 7° Point\n",
    "#### Like the three previous points, but split for each year (with respect to disburse time)."
   ]
  },
  {
   "cell_type": "code",
   "execution_count": 34,
   "metadata": {},
   "outputs": [],
   "source": [
    "country_per_year = loans[['loan_id','country_code', 'loan_amount', 'disburse_time']]"
   ]
  },
  {
   "cell_type": "code",
   "execution_count": 37,
   "metadata": {},
   "outputs": [
    {
     "name": "stderr",
     "output_type": "stream",
     "text": [
      "C:\\Users\\jacop\\Anaconda3\\lib\\site-packages\\ipykernel_launcher.py:1: SettingWithCopyWarning: \n",
      "A value is trying to be set on a copy of a slice from a DataFrame.\n",
      "Try using .loc[row_indexer,col_indexer] = value instead\n",
      "\n",
      "See the caveats in the documentation: http://pandas.pydata.org/pandas-docs/stable/user_guide/indexing.html#returning-a-view-versus-a-copy\n",
      "  \"\"\"Entry point for launching an IPython kernel.\n"
     ]
    }
   ],
   "source": [
    "country_per_year['disburse_time'] = country_per_year['disburse_time'].dt.year\n",
    "# here i need only the year for groupby purposes"
   ]
  },
  {
   "cell_type": "code",
   "execution_count": 38,
   "metadata": {},
   "outputs": [],
   "source": [
    "country_per_year1 = pd.DataFrame(country_per_year.groupby(['country_code', 'disburse_time']).sum()['loan_amount'])"
   ]
  },
  {
   "cell_type": "code",
   "execution_count": 39,
   "metadata": {},
   "outputs": [
    {
     "data": {
      "text/html": [
       "<div>\n",
       "<style scoped>\n",
       "    .dataframe tbody tr th:only-of-type {\n",
       "        vertical-align: middle;\n",
       "    }\n",
       "\n",
       "    .dataframe tbody tr th {\n",
       "        vertical-align: top;\n",
       "    }\n",
       "\n",
       "    .dataframe thead th {\n",
       "        text-align: right;\n",
       "    }\n",
       "</style>\n",
       "<table border=\"1\" class=\"dataframe\">\n",
       "  <thead>\n",
       "    <tr style=\"text-align: right;\">\n",
       "      <th></th>\n",
       "      <th></th>\n",
       "      <th>loan_amount</th>\n",
       "    </tr>\n",
       "    <tr>\n",
       "      <th>country_code</th>\n",
       "      <th>disburse_time</th>\n",
       "      <th></th>\n",
       "    </tr>\n",
       "  </thead>\n",
       "  <tbody>\n",
       "    <tr>\n",
       "      <th rowspan=\"5\" valign=\"top\">AF</th>\n",
       "      <th>2007.0</th>\n",
       "      <td>194975.0</td>\n",
       "    </tr>\n",
       "    <tr>\n",
       "      <th>2008.0</th>\n",
       "      <td>365375.0</td>\n",
       "    </tr>\n",
       "    <tr>\n",
       "      <th>2009.0</th>\n",
       "      <td>585125.0</td>\n",
       "    </tr>\n",
       "    <tr>\n",
       "      <th>2010.0</th>\n",
       "      <td>563350.0</td>\n",
       "    </tr>\n",
       "    <tr>\n",
       "      <th>2011.0</th>\n",
       "      <td>245125.0</td>\n",
       "    </tr>\n",
       "  </tbody>\n",
       "</table>\n",
       "</div>"
      ],
      "text/plain": [
       "                            loan_amount\n",
       "country_code disburse_time             \n",
       "AF           2007.0            194975.0\n",
       "             2008.0            365375.0\n",
       "             2009.0            585125.0\n",
       "             2010.0            563350.0\n",
       "             2011.0            245125.0"
      ]
     },
     "execution_count": 39,
     "metadata": {},
     "output_type": "execute_result"
    }
   ],
   "source": [
    "country_per_year1.head()"
   ]
  },
  {
   "cell_type": "markdown",
   "metadata": {},
   "source": [
    "#### 8° Point\n",
    "#### For each lender, compute the overall amount of money lent. For each loan that has more than one lender, you must assume that all lenders contributed the same amount."
   ]
  },
  {
   "cell_type": "code",
   "execution_count": 40,
   "metadata": {},
   "outputs": [],
   "source": [
    "lenders_per_loan = loans_lenders_norm['loan_id'].value_counts() \n",
    "# since in the normalized_df there is a row for each lender associated to the loan_id i can use value count for knowing how many there are"
   ]
  },
  {
   "cell_type": "code",
   "execution_count": 41,
   "metadata": {},
   "outputs": [],
   "source": [
    "lenders_per_loan_df = lenders_per_loan.rename_axis('loan_id').reset_index(name = 'number_of_lenders')"
   ]
  },
  {
   "cell_type": "code",
   "execution_count": 42,
   "metadata": {},
   "outputs": [
    {
     "data": {
      "text/html": [
       "<div>\n",
       "<style scoped>\n",
       "    .dataframe tbody tr th:only-of-type {\n",
       "        vertical-align: middle;\n",
       "    }\n",
       "\n",
       "    .dataframe tbody tr th {\n",
       "        vertical-align: top;\n",
       "    }\n",
       "\n",
       "    .dataframe thead th {\n",
       "        text-align: right;\n",
       "    }\n",
       "</style>\n",
       "<table border=\"1\" class=\"dataframe\">\n",
       "  <thead>\n",
       "    <tr style=\"text-align: right;\">\n",
       "      <th></th>\n",
       "      <th>loan_id</th>\n",
       "      <th>number_of_lenders</th>\n",
       "    </tr>\n",
       "  </thead>\n",
       "  <tbody>\n",
       "    <tr>\n",
       "      <th>0</th>\n",
       "      <td>1433600</td>\n",
       "      <td>2888</td>\n",
       "    </tr>\n",
       "    <tr>\n",
       "      <th>1</th>\n",
       "      <td>1396525</td>\n",
       "      <td>2828</td>\n",
       "    </tr>\n",
       "    <tr>\n",
       "      <th>2</th>\n",
       "      <td>722883</td>\n",
       "      <td>2674</td>\n",
       "    </tr>\n",
       "    <tr>\n",
       "      <th>3</th>\n",
       "      <td>1398161</td>\n",
       "      <td>2619</td>\n",
       "    </tr>\n",
       "    <tr>\n",
       "      <th>4</th>\n",
       "      <td>1359159</td>\n",
       "      <td>2344</td>\n",
       "    </tr>\n",
       "  </tbody>\n",
       "</table>\n",
       "</div>"
      ],
      "text/plain": [
       "   loan_id  number_of_lenders\n",
       "0  1433600               2888\n",
       "1  1396525               2828\n",
       "2   722883               2674\n",
       "3  1398161               2619\n",
       "4  1359159               2344"
      ]
     },
     "execution_count": 42,
     "metadata": {},
     "output_type": "execute_result"
    }
   ],
   "source": [
    "lenders_per_loan_df.head()"
   ]
  },
  {
   "cell_type": "code",
   "execution_count": 43,
   "metadata": {},
   "outputs": [],
   "source": [
    "temp1 = pd.merge(loans_lenders_norm, loans[['loan_id','loan_amount']], on = 'loan_id')"
   ]
  },
  {
   "cell_type": "code",
   "execution_count": 44,
   "metadata": {},
   "outputs": [],
   "source": [
    "temp2 = pd.merge(temp1, lenders_per_loan_df, on = 'loan_id')"
   ]
  },
  {
   "cell_type": "code",
   "execution_count": 45,
   "metadata": {},
   "outputs": [],
   "source": [
    "temp2['fraction_per_loan'] = temp2['loan_amount'] / temp2['number_of_lenders']"
   ]
  },
  {
   "cell_type": "code",
   "execution_count": 46,
   "metadata": {},
   "outputs": [],
   "source": [
    "amount_for_lender = pd.DataFrame(temp2.groupby('lenders').sum()['fraction_per_loan'])"
   ]
  },
  {
   "cell_type": "code",
   "execution_count": 47,
   "metadata": {},
   "outputs": [
    {
     "data": {
      "text/html": [
       "<div>\n",
       "<style scoped>\n",
       "    .dataframe tbody tr th:only-of-type {\n",
       "        vertical-align: middle;\n",
       "    }\n",
       "\n",
       "    .dataframe tbody tr th {\n",
       "        vertical-align: top;\n",
       "    }\n",
       "\n",
       "    .dataframe thead th {\n",
       "        text-align: right;\n",
       "    }\n",
       "</style>\n",
       "<table border=\"1\" class=\"dataframe\">\n",
       "  <thead>\n",
       "    <tr style=\"text-align: right;\">\n",
       "      <th></th>\n",
       "      <th>fraction_per_loan</th>\n",
       "    </tr>\n",
       "    <tr>\n",
       "      <th>lenders</th>\n",
       "      <th></th>\n",
       "    </tr>\n",
       "  </thead>\n",
       "  <tbody>\n",
       "    <tr>\n",
       "      <th>000</th>\n",
       "      <td>1672.618411</td>\n",
       "    </tr>\n",
       "    <tr>\n",
       "      <th>00000</th>\n",
       "      <td>1380.693644</td>\n",
       "    </tr>\n",
       "    <tr>\n",
       "      <th>0002</th>\n",
       "      <td>2472.563566</td>\n",
       "    </tr>\n",
       "    <tr>\n",
       "      <th>00mike00</th>\n",
       "      <td>52.631579</td>\n",
       "    </tr>\n",
       "    <tr>\n",
       "      <th>0101craign0101</th>\n",
       "      <td>2623.565117</td>\n",
       "    </tr>\n",
       "  </tbody>\n",
       "</table>\n",
       "</div>"
      ],
      "text/plain": [
       "                 fraction_per_loan\n",
       "lenders                           \n",
       " 000                   1672.618411\n",
       " 00000                 1380.693644\n",
       " 0002                  2472.563566\n",
       " 00mike00                52.631579\n",
       " 0101craign0101        2623.565117"
      ]
     },
     "execution_count": 47,
     "metadata": {},
     "output_type": "execute_result"
    }
   ],
   "source": [
    "amount_for_lender.head()"
   ]
  },
  {
   "cell_type": "markdown",
   "metadata": {},
   "source": [
    "#### 9° Point\n",
    "#### For each country, compute the difference between the overall amount of money lent and the overall amount of money borrowed. Since the country of the lender is often unknown, you can assume that the true distribution among the countries is the same as the one computed from the rows where the country is known."
   ]
  },
  {
   "cell_type": "code",
   "execution_count": 48,
   "metadata": {},
   "outputs": [],
   "source": [
    "lenders_nationality = lenders[['permanent_name','country_code']]"
   ]
  },
  {
   "cell_type": "code",
   "execution_count": null,
   "metadata": {},
   "outputs": [],
   "source": [
    "# first I get the distribution among the country that I have"
   ]
  },
  {
   "cell_type": "code",
   "execution_count": 49,
   "metadata": {},
   "outputs": [],
   "source": [
    "prop1 = lenders_nationality['country_code'].value_counts()"
   ]
  },
  {
   "cell_type": "code",
   "execution_count": 50,
   "metadata": {},
   "outputs": [],
   "source": [
    "prop2 = prop1.rename_axis('country_code').reset_index(name = 'count')"
   ]
  },
  {
   "cell_type": "code",
   "execution_count": 51,
   "metadata": {},
   "outputs": [],
   "source": [
    "tot = prop2['count'].sum()"
   ]
  },
  {
   "cell_type": "code",
   "execution_count": 52,
   "metadata": {},
   "outputs": [],
   "source": [
    "prop2['percentage'] = (prop2['count'] / tot) * 100"
   ]
  },
  {
   "cell_type": "code",
   "execution_count": 53,
   "metadata": {},
   "outputs": [],
   "source": [
    "prop2['percentage'] /= prop2['percentage'].sum()\n",
    "# In this way the 'percentage column' sum is equal to 1"
   ]
  },
  {
   "cell_type": "code",
   "execution_count": 54,
   "metadata": {},
   "outputs": [],
   "source": [
    "filling_nation = lenders_nationality.loc[lenders_nationality['country_code'].isnull()]"
   ]
  },
  {
   "cell_type": "code",
   "execution_count": 55,
   "metadata": {},
   "outputs": [
    {
     "name": "stderr",
     "output_type": "stream",
     "text": [
      "C:\\Users\\jacop\\Anaconda3\\lib\\site-packages\\ipykernel_launcher.py:2: SettingWithCopyWarning: \n",
      "A value is trying to be set on a copy of a slice from a DataFrame.\n",
      "Try using .loc[row_indexer,col_indexer] = value instead\n",
      "\n",
      "See the caveats in the documentation: http://pandas.pydata.org/pandas-docs/stable/user_guide/indexing.html#returning-a-view-versus-a-copy\n",
      "  \n"
     ]
    }
   ],
   "source": [
    "# in this way I randomly fill the column (which is full of null) but mantaining the same distribution I got on prop2['percentage']\n",
    "np.random.seed(1234)\n",
    "filling_nation['country_code'] = np.random.choice(prop2['country_code'], size = len(filling_nation.index), p = prop2['percentage'])"
   ]
  },
  {
   "cell_type": "code",
   "execution_count": 56,
   "metadata": {},
   "outputs": [
    {
     "data": {
      "text/html": [
       "<div>\n",
       "<style scoped>\n",
       "    .dataframe tbody tr th:only-of-type {\n",
       "        vertical-align: middle;\n",
       "    }\n",
       "\n",
       "    .dataframe tbody tr th {\n",
       "        vertical-align: top;\n",
       "    }\n",
       "\n",
       "    .dataframe thead th {\n",
       "        text-align: right;\n",
       "    }\n",
       "</style>\n",
       "<table border=\"1\" class=\"dataframe\">\n",
       "  <thead>\n",
       "    <tr style=\"text-align: right;\">\n",
       "      <th></th>\n",
       "      <th>permanent_name</th>\n",
       "      <th>country_code</th>\n",
       "    </tr>\n",
       "  </thead>\n",
       "  <tbody>\n",
       "    <tr>\n",
       "      <th>0</th>\n",
       "      <td>qian3013</td>\n",
       "      <td>US</td>\n",
       "    </tr>\n",
       "    <tr>\n",
       "      <th>1</th>\n",
       "      <td>reena6733</td>\n",
       "      <td>US</td>\n",
       "    </tr>\n",
       "    <tr>\n",
       "      <th>2</th>\n",
       "      <td>mai5982</td>\n",
       "      <td>US</td>\n",
       "    </tr>\n",
       "    <tr>\n",
       "      <th>3</th>\n",
       "      <td>andrew86079135</td>\n",
       "      <td>AU</td>\n",
       "    </tr>\n",
       "    <tr>\n",
       "      <th>4</th>\n",
       "      <td>nguyen6962</td>\n",
       "      <td>GB</td>\n",
       "    </tr>\n",
       "  </tbody>\n",
       "</table>\n",
       "</div>"
      ],
      "text/plain": [
       "   permanent_name country_code\n",
       "0        qian3013           US\n",
       "1       reena6733           US\n",
       "2         mai5982           US\n",
       "3  andrew86079135           AU\n",
       "4      nguyen6962           GB"
      ]
     },
     "execution_count": 56,
     "metadata": {},
     "output_type": "execute_result"
    }
   ],
   "source": [
    "# Now I have the nationalities of each lender\n",
    "filling_nation.head()"
   ]
  },
  {
   "cell_type": "code",
   "execution_count": 57,
   "metadata": {},
   "outputs": [],
   "source": [
    "lenders_nationality.update(filling_nation)"
   ]
  },
  {
   "cell_type": "code",
   "execution_count": 58,
   "metadata": {},
   "outputs": [],
   "source": [
    "# now joining to get what I need in the same df"
   ]
  },
  {
   "cell_type": "code",
   "execution_count": 59,
   "metadata": {},
   "outputs": [],
   "source": [
    "lenders_nationality = lenders_nationality.rename(columns = {'permanent_name':'lenders'})"
   ]
  },
  {
   "cell_type": "code",
   "execution_count": 60,
   "metadata": {},
   "outputs": [],
   "source": [
    "asd = pd.merge(loans_lenders_norm, lenders_nationality, on = 'lenders')"
   ]
  },
  {
   "cell_type": "code",
   "execution_count": 61,
   "metadata": {},
   "outputs": [],
   "source": [
    "asdf = pd.merge(asd, country_borrow, on = 'loan_id') # country_borrow at point 5"
   ]
  },
  {
   "cell_type": "code",
   "execution_count": 62,
   "metadata": {},
   "outputs": [],
   "source": [
    "asdf = asdf.rename(columns = {'country_code_x':'lender_country', 'country_code_y':'borrower_country'})"
   ]
  },
  {
   "cell_type": "code",
   "execution_count": 63,
   "metadata": {},
   "outputs": [],
   "source": [
    "cash_outflows = asdf.groupby('lender_country').sum()['loan_amount']"
   ]
  },
  {
   "cell_type": "code",
   "execution_count": 64,
   "metadata": {},
   "outputs": [],
   "source": [
    "# now merging with solution of point 5 to save time"
   ]
  },
  {
   "cell_type": "code",
   "execution_count": 65,
   "metadata": {},
   "outputs": [],
   "source": [
    "trade_balance = pd.merge(country_borrow1, cash_outflows, left_on=['country_code'], right_on=['lender_country'])"
   ]
  },
  {
   "cell_type": "code",
   "execution_count": 66,
   "metadata": {},
   "outputs": [],
   "source": [
    "trade_balance['difference'] = trade_balance['loan_amount'] - trade_balance['money_borrowed'] "
   ]
  },
  {
   "cell_type": "code",
   "execution_count": 67,
   "metadata": {},
   "outputs": [
    {
     "data": {
      "text/html": [
       "<div>\n",
       "<style scoped>\n",
       "    .dataframe tbody tr th:only-of-type {\n",
       "        vertical-align: middle;\n",
       "    }\n",
       "\n",
       "    .dataframe tbody tr th {\n",
       "        vertical-align: top;\n",
       "    }\n",
       "\n",
       "    .dataframe thead th {\n",
       "        text-align: right;\n",
       "    }\n",
       "</style>\n",
       "<table border=\"1\" class=\"dataframe\">\n",
       "  <thead>\n",
       "    <tr style=\"text-align: right;\">\n",
       "      <th></th>\n",
       "      <th>country_code</th>\n",
       "      <th>money_borrowed</th>\n",
       "      <th>percentage</th>\n",
       "      <th>loan_amount</th>\n",
       "      <th>difference</th>\n",
       "    </tr>\n",
       "  </thead>\n",
       "  <tbody>\n",
       "    <tr>\n",
       "      <th>0</th>\n",
       "      <td>AF</td>\n",
       "      <td>1967950.0</td>\n",
       "      <td>0.166578</td>\n",
       "      <td>170800.0</td>\n",
       "      <td>-1797150.0</td>\n",
       "    </tr>\n",
       "    <tr>\n",
       "      <th>1</th>\n",
       "      <td>AL</td>\n",
       "      <td>4307350.0</td>\n",
       "      <td>0.364598</td>\n",
       "      <td>33850.0</td>\n",
       "      <td>-4273500.0</td>\n",
       "    </tr>\n",
       "    <tr>\n",
       "      <th>2</th>\n",
       "      <td>AM</td>\n",
       "      <td>22950475.0</td>\n",
       "      <td>1.942654</td>\n",
       "      <td>42075.0</td>\n",
       "      <td>-22908400.0</td>\n",
       "    </tr>\n",
       "    <tr>\n",
       "      <th>3</th>\n",
       "      <td>AZ</td>\n",
       "      <td>14784625.0</td>\n",
       "      <td>1.251452</td>\n",
       "      <td>11925.0</td>\n",
       "      <td>-14772700.0</td>\n",
       "    </tr>\n",
       "    <tr>\n",
       "      <th>4</th>\n",
       "      <td>BA</td>\n",
       "      <td>477250.0</td>\n",
       "      <td>0.040397</td>\n",
       "      <td>93075.0</td>\n",
       "      <td>-384175.0</td>\n",
       "    </tr>\n",
       "  </tbody>\n",
       "</table>\n",
       "</div>"
      ],
      "text/plain": [
       "  country_code  money_borrowed  percentage  loan_amount  difference\n",
       "0           AF       1967950.0    0.166578     170800.0  -1797150.0\n",
       "1           AL       4307350.0    0.364598      33850.0  -4273500.0\n",
       "2           AM      22950475.0    1.942654      42075.0 -22908400.0\n",
       "3           AZ      14784625.0    1.251452      11925.0 -14772700.0\n",
       "4           BA        477250.0    0.040397      93075.0   -384175.0"
      ]
     },
     "execution_count": 67,
     "metadata": {},
     "output_type": "execute_result"
    }
   ],
   "source": [
    "trade_balance.head() # negative -> cash inflows"
   ]
  },
  {
   "cell_type": "markdown",
   "metadata": {},
   "source": [
    "#### 10° Point\n",
    "#### Which country has the highest ratio between the difference computed at the previous point and the population?"
   ]
  },
  {
   "cell_type": "code",
   "execution_count": 68,
   "metadata": {},
   "outputs": [],
   "source": [
    "country_stat1 = country_stat[['country_code','population','population_below_poverty_line']]"
   ]
  },
  {
   "cell_type": "code",
   "execution_count": 69,
   "metadata": {},
   "outputs": [],
   "source": [
    "ratio = pd.merge(country_stat1, trade_balance[['country_code','difference']], on = 'country_code')"
   ]
  },
  {
   "cell_type": "code",
   "execution_count": 70,
   "metadata": {},
   "outputs": [],
   "source": [
    "ratio['ratio_norm'] = abs(ratio['difference'] / ratio['population']) # Since it's not clear what does it mean \"Highest\" I'll use absolute value"
   ]
  },
  {
   "cell_type": "code",
   "execution_count": 71,
   "metadata": {},
   "outputs": [
    {
     "data": {
      "text/html": [
       "<div>\n",
       "<style scoped>\n",
       "    .dataframe tbody tr th:only-of-type {\n",
       "        vertical-align: middle;\n",
       "    }\n",
       "\n",
       "    .dataframe tbody tr th {\n",
       "        vertical-align: top;\n",
       "    }\n",
       "\n",
       "    .dataframe thead th {\n",
       "        text-align: right;\n",
       "    }\n",
       "</style>\n",
       "<table border=\"1\" class=\"dataframe\">\n",
       "  <thead>\n",
       "    <tr style=\"text-align: right;\">\n",
       "      <th></th>\n",
       "      <th>country_code</th>\n",
       "      <th>population</th>\n",
       "      <th>population_below_poverty_line</th>\n",
       "      <th>difference</th>\n",
       "      <th>ratio_norm</th>\n",
       "    </tr>\n",
       "  </thead>\n",
       "  <tbody>\n",
       "    <tr>\n",
       "      <th>84</th>\n",
       "      <td>WS</td>\n",
       "      <td>196440</td>\n",
       "      <td>NaN</td>\n",
       "      <td>-12211000.0</td>\n",
       "      <td>62.161474</td>\n",
       "    </tr>\n",
       "  </tbody>\n",
       "</table>\n",
       "</div>"
      ],
      "text/plain": [
       "   country_code  population  population_below_poverty_line  difference  \\\n",
       "84           WS      196440                            NaN -12211000.0   \n",
       "\n",
       "    ratio_norm  \n",
       "84   62.161474  "
      ]
     },
     "execution_count": 71,
     "metadata": {},
     "output_type": "execute_result"
    }
   ],
   "source": [
    "ratio.loc[ratio['ratio_norm'] == ratio['ratio_norm'].max()]"
   ]
  },
  {
   "cell_type": "markdown",
   "metadata": {},
   "source": [
    "#### 11° Point\n",
    "#### Which country has the highest ratio between the difference computed at point 9 and the population that is not below the poverty line?"
   ]
  },
  {
   "cell_type": "code",
   "execution_count": 72,
   "metadata": {},
   "outputs": [],
   "source": [
    "population_below_poverty_line_abs = ratio['population'] * (1 - (ratio['population_below_poverty_line'] / 100))"
   ]
  },
  {
   "cell_type": "code",
   "execution_count": 73,
   "metadata": {},
   "outputs": [],
   "source": [
    "ratio['ratio_above'] = abs(ratio['difference'] / population_below_poverty_line_abs)"
   ]
  },
  {
   "cell_type": "code",
   "execution_count": 74,
   "metadata": {},
   "outputs": [
    {
     "data": {
      "text/html": [
       "<div>\n",
       "<style scoped>\n",
       "    .dataframe tbody tr th:only-of-type {\n",
       "        vertical-align: middle;\n",
       "    }\n",
       "\n",
       "    .dataframe tbody tr th {\n",
       "        vertical-align: top;\n",
       "    }\n",
       "\n",
       "    .dataframe thead th {\n",
       "        text-align: right;\n",
       "    }\n",
       "</style>\n",
       "<table border=\"1\" class=\"dataframe\">\n",
       "  <thead>\n",
       "    <tr style=\"text-align: right;\">\n",
       "      <th></th>\n",
       "      <th>country_code</th>\n",
       "      <th>population</th>\n",
       "      <th>population_below_poverty_line</th>\n",
       "      <th>difference</th>\n",
       "      <th>ratio_norm</th>\n",
       "      <th>ratio_above</th>\n",
       "    </tr>\n",
       "  </thead>\n",
       "  <tbody>\n",
       "    <tr>\n",
       "      <th>68</th>\n",
       "      <td>AM</td>\n",
       "      <td>2930450</td>\n",
       "      <td>32.0</td>\n",
       "      <td>-22908400.0</td>\n",
       "      <td>7.817366</td>\n",
       "      <td>11.496126</td>\n",
       "    </tr>\n",
       "  </tbody>\n",
       "</table>\n",
       "</div>"
      ],
      "text/plain": [
       "   country_code  population  population_below_poverty_line  difference  \\\n",
       "68           AM     2930450                           32.0 -22908400.0   \n",
       "\n",
       "    ratio_norm  ratio_above  \n",
       "68    7.817366    11.496126  "
      ]
     },
     "execution_count": 74,
     "metadata": {},
     "output_type": "execute_result"
    }
   ],
   "source": [
    "ratio.loc[ratio['ratio_above'] == ratio['ratio_above'].max()]"
   ]
  },
  {
   "cell_type": "markdown",
   "metadata": {},
   "source": [
    "#### 12° Point\n",
    "#### For each year, compute the total amount of loans. Each loan that has planned expiration time and disburse time in different years must have its amount distributed proportionally to the number of days in each year. \n",
    "#### For example, a loan with disburse time December 1st, 2016, planned expiration time January 30th 2018, and amount 5000USD has an amount of 5000USD * 31 / (31+365+30) = 363.85 for 2016, 5000USD * 365 / (31+365+30) = 4284.04 for 2017, and 5000USD * 30 / (31+365+30) = 352.11 for 2018."
   ]
  },
  {
   "cell_type": "code",
   "execution_count": 75,
   "metadata": {},
   "outputs": [],
   "source": [
    "final_subset = pd.merge(loans_duration, loans[['loan_id','loan_amount']], on = 'loan_id').dropna()"
   ]
  },
  {
   "cell_type": "code",
   "execution_count": 76,
   "metadata": {
    "scrolled": true
   },
   "outputs": [
    {
     "data": {
      "text/html": [
       "<div>\n",
       "<style scoped>\n",
       "    .dataframe tbody tr th:only-of-type {\n",
       "        vertical-align: middle;\n",
       "    }\n",
       "\n",
       "    .dataframe tbody tr th {\n",
       "        vertical-align: top;\n",
       "    }\n",
       "\n",
       "    .dataframe thead th {\n",
       "        text-align: right;\n",
       "    }\n",
       "</style>\n",
       "<table border=\"1\" class=\"dataframe\">\n",
       "  <thead>\n",
       "    <tr style=\"text-align: right;\">\n",
       "      <th></th>\n",
       "      <th>loan_id</th>\n",
       "      <th>disburse_time</th>\n",
       "      <th>planned_expiration_time</th>\n",
       "      <th>duration</th>\n",
       "      <th>loan_amount</th>\n",
       "    </tr>\n",
       "  </thead>\n",
       "  <tbody>\n",
       "    <tr>\n",
       "      <th>0</th>\n",
       "      <td>657307.0</td>\n",
       "      <td>2013-12-22</td>\n",
       "      <td>2014-02-14</td>\n",
       "      <td>54 days</td>\n",
       "      <td>125.0</td>\n",
       "    </tr>\n",
       "    <tr>\n",
       "      <th>1</th>\n",
       "      <td>657259.0</td>\n",
       "      <td>2013-12-20</td>\n",
       "      <td>2014-03-26</td>\n",
       "      <td>96 days</td>\n",
       "      <td>400.0</td>\n",
       "    </tr>\n",
       "    <tr>\n",
       "      <th>2</th>\n",
       "      <td>658010.0</td>\n",
       "      <td>2014-01-09</td>\n",
       "      <td>2014-02-15</td>\n",
       "      <td>37 days</td>\n",
       "      <td>400.0</td>\n",
       "    </tr>\n",
       "    <tr>\n",
       "      <th>3</th>\n",
       "      <td>659347.0</td>\n",
       "      <td>2014-01-17</td>\n",
       "      <td>2014-02-21</td>\n",
       "      <td>35 days</td>\n",
       "      <td>625.0</td>\n",
       "    </tr>\n",
       "    <tr>\n",
       "      <th>4</th>\n",
       "      <td>656933.0</td>\n",
       "      <td>2013-12-17</td>\n",
       "      <td>2014-02-13</td>\n",
       "      <td>58 days</td>\n",
       "      <td>425.0</td>\n",
       "    </tr>\n",
       "  </tbody>\n",
       "</table>\n",
       "</div>"
      ],
      "text/plain": [
       "    loan_id disburse_time planned_expiration_time duration  loan_amount\n",
       "0  657307.0    2013-12-22              2014-02-14  54 days        125.0\n",
       "1  657259.0    2013-12-20              2014-03-26  96 days        400.0\n",
       "2  658010.0    2014-01-09              2014-02-15  37 days        400.0\n",
       "3  659347.0    2014-01-17              2014-02-21  35 days        625.0\n",
       "4  656933.0    2013-12-17              2014-02-13  58 days        425.0"
      ]
     },
     "execution_count": 76,
     "metadata": {},
     "output_type": "execute_result"
    }
   ],
   "source": [
    "final_subset.head()"
   ]
  },
  {
   "cell_type": "code",
   "execution_count": null,
   "metadata": {},
   "outputs": [],
   "source": [
    "# creating 2 subset: \n",
    "# one in which i have all the loans that are disbursed and expired in the same year\n",
    "# another one in which the loans last multiple years \n",
    "# -> in this latter one it's needed a solution to impute the quantity of money per year correctly "
   ]
  },
  {
   "cell_type": "code",
   "execution_count": 77,
   "metadata": {},
   "outputs": [],
   "source": [
    "same_year_loan = final_subset.loc[final_subset['disburse_time'].dt.year == final_subset['planned_expiration_time'].dt.year]"
   ]
  },
  {
   "cell_type": "code",
   "execution_count": 78,
   "metadata": {},
   "outputs": [],
   "source": [
    "multiple_year_loan = final_subset.loc[final_subset['disburse_time'].dt.year < final_subset['planned_expiration_time'].dt.year]"
   ]
  },
  {
   "cell_type": "code",
   "execution_count": 79,
   "metadata": {
    "scrolled": true
   },
   "outputs": [
    {
     "data": {
      "text/html": [
       "<div>\n",
       "<style scoped>\n",
       "    .dataframe tbody tr th:only-of-type {\n",
       "        vertical-align: middle;\n",
       "    }\n",
       "\n",
       "    .dataframe tbody tr th {\n",
       "        vertical-align: top;\n",
       "    }\n",
       "\n",
       "    .dataframe thead th {\n",
       "        text-align: right;\n",
       "    }\n",
       "</style>\n",
       "<table border=\"1\" class=\"dataframe\">\n",
       "  <thead>\n",
       "    <tr style=\"text-align: right;\">\n",
       "      <th></th>\n",
       "      <th>loan_id</th>\n",
       "      <th>disburse_time</th>\n",
       "      <th>planned_expiration_time</th>\n",
       "      <th>duration</th>\n",
       "      <th>loan_amount</th>\n",
       "    </tr>\n",
       "  </thead>\n",
       "  <tbody>\n",
       "    <tr>\n",
       "      <th>0</th>\n",
       "      <td>657307.0</td>\n",
       "      <td>2013-12-22</td>\n",
       "      <td>2014-02-14</td>\n",
       "      <td>54 days</td>\n",
       "      <td>125.0</td>\n",
       "    </tr>\n",
       "    <tr>\n",
       "      <th>1</th>\n",
       "      <td>657259.0</td>\n",
       "      <td>2013-12-20</td>\n",
       "      <td>2014-03-26</td>\n",
       "      <td>96 days</td>\n",
       "      <td>400.0</td>\n",
       "    </tr>\n",
       "    <tr>\n",
       "      <th>4</th>\n",
       "      <td>656933.0</td>\n",
       "      <td>2013-12-17</td>\n",
       "      <td>2014-02-13</td>\n",
       "      <td>58 days</td>\n",
       "      <td>425.0</td>\n",
       "    </tr>\n",
       "    <tr>\n",
       "      <th>12</th>\n",
       "      <td>660363.0</td>\n",
       "      <td>2013-12-23</td>\n",
       "      <td>2014-02-21</td>\n",
       "      <td>60 days</td>\n",
       "      <td>1175.0</td>\n",
       "    </tr>\n",
       "    <tr>\n",
       "      <th>13</th>\n",
       "      <td>661165.0</td>\n",
       "      <td>2013-12-26</td>\n",
       "      <td>2014-03-26</td>\n",
       "      <td>90 days</td>\n",
       "      <td>300.0</td>\n",
       "    </tr>\n",
       "  </tbody>\n",
       "</table>\n",
       "</div>"
      ],
      "text/plain": [
       "     loan_id disburse_time planned_expiration_time duration  loan_amount\n",
       "0   657307.0    2013-12-22              2014-02-14  54 days        125.0\n",
       "1   657259.0    2013-12-20              2014-03-26  96 days        400.0\n",
       "4   656933.0    2013-12-17              2014-02-13  58 days        425.0\n",
       "12  660363.0    2013-12-23              2014-02-21  60 days       1175.0\n",
       "13  661165.0    2013-12-26              2014-03-26  90 days        300.0"
      ]
     },
     "execution_count": 79,
     "metadata": {},
     "output_type": "execute_result"
    }
   ],
   "source": [
    "multiple_year_loan.head()"
   ]
  },
  {
   "cell_type": "code",
   "execution_count": 80,
   "metadata": {},
   "outputs": [],
   "source": [
    "# creating a new row for each year between disburse_time and planned_expiration_time\n",
    "multiple_year_loan = multiple_year_loan.loc[multiple_year_loan.index.repeat(multiple_year_loan.planned_expiration_time.dt.year - multiple_year_loan.disburse_time.dt.year + 1)]"
   ]
  },
  {
   "cell_type": "code",
   "execution_count": null,
   "metadata": {},
   "outputs": [],
   "source": [
    "# now i want two columns needed for a cycle : i need a column for the beginning of the year and one for the end"
   ]
  },
  {
   "cell_type": "code",
   "execution_count": 81,
   "metadata": {},
   "outputs": [
    {
     "data": {
      "text/html": [
       "<div>\n",
       "<style scoped>\n",
       "    .dataframe tbody tr th:only-of-type {\n",
       "        vertical-align: middle;\n",
       "    }\n",
       "\n",
       "    .dataframe tbody tr th {\n",
       "        vertical-align: top;\n",
       "    }\n",
       "\n",
       "    .dataframe thead th {\n",
       "        text-align: right;\n",
       "    }\n",
       "</style>\n",
       "<table border=\"1\" class=\"dataframe\">\n",
       "  <thead>\n",
       "    <tr style=\"text-align: right;\">\n",
       "      <th></th>\n",
       "      <th>loan_id</th>\n",
       "      <th>disburse_time</th>\n",
       "      <th>planned_expiration_time</th>\n",
       "      <th>duration</th>\n",
       "      <th>loan_amount</th>\n",
       "      <th>start_time</th>\n",
       "    </tr>\n",
       "  </thead>\n",
       "  <tbody>\n",
       "    <tr>\n",
       "      <th>0</th>\n",
       "      <td>657307.0</td>\n",
       "      <td>2013-12-22</td>\n",
       "      <td>2014-02-14</td>\n",
       "      <td>54 days</td>\n",
       "      <td>125.0</td>\n",
       "      <td>2013-01-01</td>\n",
       "    </tr>\n",
       "    <tr>\n",
       "      <th>0</th>\n",
       "      <td>657307.0</td>\n",
       "      <td>2013-12-22</td>\n",
       "      <td>2014-02-14</td>\n",
       "      <td>54 days</td>\n",
       "      <td>125.0</td>\n",
       "      <td>2013-01-01</td>\n",
       "    </tr>\n",
       "    <tr>\n",
       "      <th>1</th>\n",
       "      <td>657259.0</td>\n",
       "      <td>2013-12-20</td>\n",
       "      <td>2014-03-26</td>\n",
       "      <td>96 days</td>\n",
       "      <td>400.0</td>\n",
       "      <td>2013-01-01</td>\n",
       "    </tr>\n",
       "    <tr>\n",
       "      <th>1</th>\n",
       "      <td>657259.0</td>\n",
       "      <td>2013-12-20</td>\n",
       "      <td>2014-03-26</td>\n",
       "      <td>96 days</td>\n",
       "      <td>400.0</td>\n",
       "      <td>2013-01-01</td>\n",
       "    </tr>\n",
       "    <tr>\n",
       "      <th>4</th>\n",
       "      <td>656933.0</td>\n",
       "      <td>2013-12-17</td>\n",
       "      <td>2014-02-13</td>\n",
       "      <td>58 days</td>\n",
       "      <td>425.0</td>\n",
       "      <td>2013-01-01</td>\n",
       "    </tr>\n",
       "  </tbody>\n",
       "</table>\n",
       "</div>"
      ],
      "text/plain": [
       "    loan_id disburse_time planned_expiration_time duration  loan_amount  \\\n",
       "0  657307.0    2013-12-22              2014-02-14  54 days        125.0   \n",
       "0  657307.0    2013-12-22              2014-02-14  54 days        125.0   \n",
       "1  657259.0    2013-12-20              2014-03-26  96 days        400.0   \n",
       "1  657259.0    2013-12-20              2014-03-26  96 days        400.0   \n",
       "4  656933.0    2013-12-17              2014-02-13  58 days        425.0   \n",
       "\n",
       "  start_time  \n",
       "0 2013-01-01  \n",
       "0 2013-01-01  \n",
       "1 2013-01-01  \n",
       "1 2013-01-01  \n",
       "4 2013-01-01  "
      ]
     },
     "execution_count": 81,
     "metadata": {},
     "output_type": "execute_result"
    }
   ],
   "source": [
    "# creating a new column in which i have the first day of the year, but with the 'disburse_time' year imputed\n",
    "multiple_year_loan[\"start_time\"] = multiple_year_loan.drop_duplicates()[\"disburse_time\"].dt.year.apply(lambda x: dt.datetime(x, 1, 1))\n",
    "multiple_year_loan.head()"
   ]
  },
  {
   "cell_type": "code",
   "execution_count": 82,
   "metadata": {},
   "outputs": [
    {
     "data": {
      "text/html": [
       "<div>\n",
       "<style scoped>\n",
       "    .dataframe tbody tr th:only-of-type {\n",
       "        vertical-align: middle;\n",
       "    }\n",
       "\n",
       "    .dataframe tbody tr th {\n",
       "        vertical-align: top;\n",
       "    }\n",
       "\n",
       "    .dataframe thead th {\n",
       "        text-align: right;\n",
       "    }\n",
       "</style>\n",
       "<table border=\"1\" class=\"dataframe\">\n",
       "  <thead>\n",
       "    <tr style=\"text-align: right;\">\n",
       "      <th></th>\n",
       "      <th>loan_id</th>\n",
       "      <th>disburse_time</th>\n",
       "      <th>planned_expiration_time</th>\n",
       "      <th>duration</th>\n",
       "      <th>loan_amount</th>\n",
       "      <th>start_time</th>\n",
       "    </tr>\n",
       "  </thead>\n",
       "  <tbody>\n",
       "    <tr>\n",
       "      <th>0</th>\n",
       "      <td>657307.0</td>\n",
       "      <td>2013-12-22</td>\n",
       "      <td>2014-02-14</td>\n",
       "      <td>54 days</td>\n",
       "      <td>125.0</td>\n",
       "      <td>2013-01-01</td>\n",
       "    </tr>\n",
       "    <tr>\n",
       "      <th>0</th>\n",
       "      <td>657307.0</td>\n",
       "      <td>2013-12-22</td>\n",
       "      <td>2014-02-14</td>\n",
       "      <td>54 days</td>\n",
       "      <td>125.0</td>\n",
       "      <td>2014-01-01</td>\n",
       "    </tr>\n",
       "    <tr>\n",
       "      <th>1</th>\n",
       "      <td>657259.0</td>\n",
       "      <td>2013-12-20</td>\n",
       "      <td>2014-03-26</td>\n",
       "      <td>96 days</td>\n",
       "      <td>400.0</td>\n",
       "      <td>2013-01-01</td>\n",
       "    </tr>\n",
       "    <tr>\n",
       "      <th>1</th>\n",
       "      <td>657259.0</td>\n",
       "      <td>2013-12-20</td>\n",
       "      <td>2014-03-26</td>\n",
       "      <td>96 days</td>\n",
       "      <td>400.0</td>\n",
       "      <td>2014-01-01</td>\n",
       "    </tr>\n",
       "    <tr>\n",
       "      <th>4</th>\n",
       "      <td>656933.0</td>\n",
       "      <td>2013-12-17</td>\n",
       "      <td>2014-02-13</td>\n",
       "      <td>58 days</td>\n",
       "      <td>425.0</td>\n",
       "      <td>2013-01-01</td>\n",
       "    </tr>\n",
       "    <tr>\n",
       "      <th>...</th>\n",
       "      <td>...</td>\n",
       "      <td>...</td>\n",
       "      <td>...</td>\n",
       "      <td>...</td>\n",
       "      <td>...</td>\n",
       "      <td>...</td>\n",
       "    </tr>\n",
       "    <tr>\n",
       "      <th>1419604</th>\n",
       "      <td>989109.0</td>\n",
       "      <td>2015-11-13</td>\n",
       "      <td>2016-01-03</td>\n",
       "      <td>51 days</td>\n",
       "      <td>2425.0</td>\n",
       "      <td>2016-01-01</td>\n",
       "    </tr>\n",
       "    <tr>\n",
       "      <th>1419605</th>\n",
       "      <td>989143.0</td>\n",
       "      <td>2015-11-03</td>\n",
       "      <td>2016-01-05</td>\n",
       "      <td>63 days</td>\n",
       "      <td>100.0</td>\n",
       "      <td>2015-01-01</td>\n",
       "    </tr>\n",
       "    <tr>\n",
       "      <th>1419605</th>\n",
       "      <td>989143.0</td>\n",
       "      <td>2015-11-03</td>\n",
       "      <td>2016-01-05</td>\n",
       "      <td>63 days</td>\n",
       "      <td>100.0</td>\n",
       "      <td>2016-01-01</td>\n",
       "    </tr>\n",
       "    <tr>\n",
       "      <th>1419606</th>\n",
       "      <td>989240.0</td>\n",
       "      <td>2015-11-03</td>\n",
       "      <td>2016-01-03</td>\n",
       "      <td>61 days</td>\n",
       "      <td>175.0</td>\n",
       "      <td>2015-01-01</td>\n",
       "    </tr>\n",
       "    <tr>\n",
       "      <th>1419606</th>\n",
       "      <td>989240.0</td>\n",
       "      <td>2015-11-03</td>\n",
       "      <td>2016-01-03</td>\n",
       "      <td>61 days</td>\n",
       "      <td>175.0</td>\n",
       "      <td>2016-01-01</td>\n",
       "    </tr>\n",
       "  </tbody>\n",
       "</table>\n",
       "<p>305295 rows × 6 columns</p>\n",
       "</div>"
      ],
      "text/plain": [
       "          loan_id disburse_time planned_expiration_time duration  loan_amount  \\\n",
       "0        657307.0    2013-12-22              2014-02-14  54 days        125.0   \n",
       "0        657307.0    2013-12-22              2014-02-14  54 days        125.0   \n",
       "1        657259.0    2013-12-20              2014-03-26  96 days        400.0   \n",
       "1        657259.0    2013-12-20              2014-03-26  96 days        400.0   \n",
       "4        656933.0    2013-12-17              2014-02-13  58 days        425.0   \n",
       "...           ...           ...                     ...      ...          ...   \n",
       "1419604  989109.0    2015-11-13              2016-01-03  51 days       2425.0   \n",
       "1419605  989143.0    2015-11-03              2016-01-05  63 days        100.0   \n",
       "1419605  989143.0    2015-11-03              2016-01-05  63 days        100.0   \n",
       "1419606  989240.0    2015-11-03              2016-01-03  61 days        175.0   \n",
       "1419606  989240.0    2015-11-03              2016-01-03  61 days        175.0   \n",
       "\n",
       "        start_time  \n",
       "0       2013-01-01  \n",
       "0       2014-01-01  \n",
       "1       2013-01-01  \n",
       "1       2014-01-01  \n",
       "4       2013-01-01  \n",
       "...            ...  \n",
       "1419604 2016-01-01  \n",
       "1419605 2015-01-01  \n",
       "1419605 2016-01-01  \n",
       "1419606 2015-01-01  \n",
       "1419606 2016-01-01  \n",
       "\n",
       "[305295 rows x 6 columns]"
      ]
     },
     "execution_count": 82,
     "metadata": {},
     "output_type": "execute_result"
    }
   ],
   "source": [
    "# now fixing the year in start_time, in this way the year gets updated for each row of the same loan\n",
    "y = multiple_year_loan[\"disburse_time\"].dt.year\n",
    "multiple_year_loan[\"start_time\"] = pd.to_datetime(multiple_year_loan.groupby(multiple_year_loan[\"loan_id\"]).cumcount() + y, format='%Y')\n",
    "multiple_year_loan"
   ]
  },
  {
   "cell_type": "code",
   "execution_count": 83,
   "metadata": {},
   "outputs": [
    {
     "data": {
      "text/html": [
       "<div>\n",
       "<style scoped>\n",
       "    .dataframe tbody tr th:only-of-type {\n",
       "        vertical-align: middle;\n",
       "    }\n",
       "\n",
       "    .dataframe tbody tr th {\n",
       "        vertical-align: top;\n",
       "    }\n",
       "\n",
       "    .dataframe thead th {\n",
       "        text-align: right;\n",
       "    }\n",
       "</style>\n",
       "<table border=\"1\" class=\"dataframe\">\n",
       "  <thead>\n",
       "    <tr style=\"text-align: right;\">\n",
       "      <th></th>\n",
       "      <th>loan_id</th>\n",
       "      <th>disburse_time</th>\n",
       "      <th>planned_expiration_time</th>\n",
       "      <th>duration</th>\n",
       "      <th>loan_amount</th>\n",
       "      <th>start_time</th>\n",
       "      <th>end_time</th>\n",
       "    </tr>\n",
       "  </thead>\n",
       "  <tbody>\n",
       "    <tr>\n",
       "      <th>0</th>\n",
       "      <td>657307.0</td>\n",
       "      <td>2013-12-22</td>\n",
       "      <td>2014-02-14</td>\n",
       "      <td>54 days</td>\n",
       "      <td>125.0</td>\n",
       "      <td>2013-01-01</td>\n",
       "      <td>2013-01-01</td>\n",
       "    </tr>\n",
       "    <tr>\n",
       "      <th>0</th>\n",
       "      <td>657307.0</td>\n",
       "      <td>2013-12-22</td>\n",
       "      <td>2014-02-14</td>\n",
       "      <td>54 days</td>\n",
       "      <td>125.0</td>\n",
       "      <td>2014-01-01</td>\n",
       "      <td>2014-01-01</td>\n",
       "    </tr>\n",
       "    <tr>\n",
       "      <th>1</th>\n",
       "      <td>657259.0</td>\n",
       "      <td>2013-12-20</td>\n",
       "      <td>2014-03-26</td>\n",
       "      <td>96 days</td>\n",
       "      <td>400.0</td>\n",
       "      <td>2013-01-01</td>\n",
       "      <td>2013-01-01</td>\n",
       "    </tr>\n",
       "    <tr>\n",
       "      <th>1</th>\n",
       "      <td>657259.0</td>\n",
       "      <td>2013-12-20</td>\n",
       "      <td>2014-03-26</td>\n",
       "      <td>96 days</td>\n",
       "      <td>400.0</td>\n",
       "      <td>2014-01-01</td>\n",
       "      <td>2014-01-01</td>\n",
       "    </tr>\n",
       "    <tr>\n",
       "      <th>4</th>\n",
       "      <td>656933.0</td>\n",
       "      <td>2013-12-17</td>\n",
       "      <td>2014-02-13</td>\n",
       "      <td>58 days</td>\n",
       "      <td>425.0</td>\n",
       "      <td>2013-01-01</td>\n",
       "      <td>2013-01-01</td>\n",
       "    </tr>\n",
       "  </tbody>\n",
       "</table>\n",
       "</div>"
      ],
      "text/plain": [
       "    loan_id disburse_time planned_expiration_time duration  loan_amount  \\\n",
       "0  657307.0    2013-12-22              2014-02-14  54 days        125.0   \n",
       "0  657307.0    2013-12-22              2014-02-14  54 days        125.0   \n",
       "1  657259.0    2013-12-20              2014-03-26  96 days        400.0   \n",
       "1  657259.0    2013-12-20              2014-03-26  96 days        400.0   \n",
       "4  656933.0    2013-12-17              2014-02-13  58 days        425.0   \n",
       "\n",
       "  start_time   end_time  \n",
       "0 2013-01-01 2013-01-01  \n",
       "0 2014-01-01 2014-01-01  \n",
       "1 2013-01-01 2013-01-01  \n",
       "1 2014-01-01 2014-01-01  \n",
       "4 2013-01-01 2013-01-01  "
      ]
     },
     "execution_count": 83,
     "metadata": {},
     "output_type": "execute_result"
    }
   ],
   "source": [
    "# doing the same thing already done with start time but computing the end of the year\n",
    "multiple_year_loan[\"end_time\"] = pd.to_datetime(multiple_year_loan.groupby(multiple_year_loan[\"loan_id\"]).cumcount() + y, format='%Y')\n",
    "multiple_year_loan.head()"
   ]
  },
  {
   "cell_type": "code",
   "execution_count": 84,
   "metadata": {},
   "outputs": [
    {
     "data": {
      "text/html": [
       "<div>\n",
       "<style scoped>\n",
       "    .dataframe tbody tr th:only-of-type {\n",
       "        vertical-align: middle;\n",
       "    }\n",
       "\n",
       "    .dataframe tbody tr th {\n",
       "        vertical-align: top;\n",
       "    }\n",
       "\n",
       "    .dataframe thead th {\n",
       "        text-align: right;\n",
       "    }\n",
       "</style>\n",
       "<table border=\"1\" class=\"dataframe\">\n",
       "  <thead>\n",
       "    <tr style=\"text-align: right;\">\n",
       "      <th></th>\n",
       "      <th>loan_id</th>\n",
       "      <th>disburse_time</th>\n",
       "      <th>planned_expiration_time</th>\n",
       "      <th>duration</th>\n",
       "      <th>loan_amount</th>\n",
       "      <th>start_time</th>\n",
       "      <th>end_time</th>\n",
       "    </tr>\n",
       "  </thead>\n",
       "  <tbody>\n",
       "    <tr>\n",
       "      <th>0</th>\n",
       "      <td>657307.0</td>\n",
       "      <td>2013-12-22</td>\n",
       "      <td>2014-02-14</td>\n",
       "      <td>54 days</td>\n",
       "      <td>125.0</td>\n",
       "      <td>2013-01-01</td>\n",
       "      <td>2013-12-31</td>\n",
       "    </tr>\n",
       "    <tr>\n",
       "      <th>0</th>\n",
       "      <td>657307.0</td>\n",
       "      <td>2013-12-22</td>\n",
       "      <td>2014-02-14</td>\n",
       "      <td>54 days</td>\n",
       "      <td>125.0</td>\n",
       "      <td>2014-01-01</td>\n",
       "      <td>2014-12-31</td>\n",
       "    </tr>\n",
       "    <tr>\n",
       "      <th>1</th>\n",
       "      <td>657259.0</td>\n",
       "      <td>2013-12-20</td>\n",
       "      <td>2014-03-26</td>\n",
       "      <td>96 days</td>\n",
       "      <td>400.0</td>\n",
       "      <td>2013-01-01</td>\n",
       "      <td>2013-12-31</td>\n",
       "    </tr>\n",
       "    <tr>\n",
       "      <th>1</th>\n",
       "      <td>657259.0</td>\n",
       "      <td>2013-12-20</td>\n",
       "      <td>2014-03-26</td>\n",
       "      <td>96 days</td>\n",
       "      <td>400.0</td>\n",
       "      <td>2014-01-01</td>\n",
       "      <td>2014-12-31</td>\n",
       "    </tr>\n",
       "    <tr>\n",
       "      <th>4</th>\n",
       "      <td>656933.0</td>\n",
       "      <td>2013-12-17</td>\n",
       "      <td>2014-02-13</td>\n",
       "      <td>58 days</td>\n",
       "      <td>425.0</td>\n",
       "      <td>2013-01-01</td>\n",
       "      <td>2013-12-31</td>\n",
       "    </tr>\n",
       "  </tbody>\n",
       "</table>\n",
       "</div>"
      ],
      "text/plain": [
       "    loan_id disburse_time planned_expiration_time duration  loan_amount  \\\n",
       "0  657307.0    2013-12-22              2014-02-14  54 days        125.0   \n",
       "0  657307.0    2013-12-22              2014-02-14  54 days        125.0   \n",
       "1  657259.0    2013-12-20              2014-03-26  96 days        400.0   \n",
       "1  657259.0    2013-12-20              2014-03-26  96 days        400.0   \n",
       "4  656933.0    2013-12-17              2014-02-13  58 days        425.0   \n",
       "\n",
       "  start_time   end_time  \n",
       "0 2013-01-01 2013-12-31  \n",
       "0 2014-01-01 2014-12-31  \n",
       "1 2013-01-01 2013-12-31  \n",
       "1 2014-01-01 2014-12-31  \n",
       "4 2013-01-01 2013-12-31  "
      ]
     },
     "execution_count": 84,
     "metadata": {},
     "output_type": "execute_result"
    }
   ],
   "source": [
    "multiple_year_loan[\"end_time\"] = multiple_year_loan[\"start_time\"].dt.year.apply(lambda x: dt.datetime(x, 12, 31))\n",
    "multiple_year_loan.head()"
   ]
  },
  {
   "cell_type": "code",
   "execution_count": 85,
   "metadata": {},
   "outputs": [],
   "source": [
    "# cycle to fill how many days of interest fall into the year \n",
    "def normalise_row(row):\n",
    "    if row['disburse_time'].year == row['start_time'].year:\n",
    "        return row['end_time'] - row['disburse_time']\n",
    "    elif row['planned_expiration_time'].year == row['end_time'].year:\n",
    "        return row['planned_expiration_time'] - row['start_time']\n",
    "    else:\n",
    "        return 365"
   ]
  },
  {
   "cell_type": "code",
   "execution_count": 86,
   "metadata": {},
   "outputs": [],
   "source": [
    "multiple_year_loan['days'] = multiple_year_loan.apply(lambda x : normalise_row(x), axis=1) "
   ]
  },
  {
   "cell_type": "code",
   "execution_count": 87,
   "metadata": {},
   "outputs": [
    {
     "data": {
      "text/html": [
       "<div>\n",
       "<style scoped>\n",
       "    .dataframe tbody tr th:only-of-type {\n",
       "        vertical-align: middle;\n",
       "    }\n",
       "\n",
       "    .dataframe tbody tr th {\n",
       "        vertical-align: top;\n",
       "    }\n",
       "\n",
       "    .dataframe thead th {\n",
       "        text-align: right;\n",
       "    }\n",
       "</style>\n",
       "<table border=\"1\" class=\"dataframe\">\n",
       "  <thead>\n",
       "    <tr style=\"text-align: right;\">\n",
       "      <th></th>\n",
       "      <th>loan_id</th>\n",
       "      <th>disburse_time</th>\n",
       "      <th>planned_expiration_time</th>\n",
       "      <th>duration</th>\n",
       "      <th>loan_amount</th>\n",
       "      <th>start_time</th>\n",
       "      <th>end_time</th>\n",
       "      <th>days</th>\n",
       "    </tr>\n",
       "  </thead>\n",
       "  <tbody>\n",
       "    <tr>\n",
       "      <th>0</th>\n",
       "      <td>657307.0</td>\n",
       "      <td>2013-12-22</td>\n",
       "      <td>2014-02-14</td>\n",
       "      <td>54 days</td>\n",
       "      <td>125.0</td>\n",
       "      <td>2013-01-01</td>\n",
       "      <td>2013-12-31</td>\n",
       "      <td>9 days 00:00:00</td>\n",
       "    </tr>\n",
       "    <tr>\n",
       "      <th>0</th>\n",
       "      <td>657307.0</td>\n",
       "      <td>2013-12-22</td>\n",
       "      <td>2014-02-14</td>\n",
       "      <td>54 days</td>\n",
       "      <td>125.0</td>\n",
       "      <td>2014-01-01</td>\n",
       "      <td>2014-12-31</td>\n",
       "      <td>44 days 00:00:00</td>\n",
       "    </tr>\n",
       "    <tr>\n",
       "      <th>1</th>\n",
       "      <td>657259.0</td>\n",
       "      <td>2013-12-20</td>\n",
       "      <td>2014-03-26</td>\n",
       "      <td>96 days</td>\n",
       "      <td>400.0</td>\n",
       "      <td>2013-01-01</td>\n",
       "      <td>2013-12-31</td>\n",
       "      <td>11 days 00:00:00</td>\n",
       "    </tr>\n",
       "    <tr>\n",
       "      <th>1</th>\n",
       "      <td>657259.0</td>\n",
       "      <td>2013-12-20</td>\n",
       "      <td>2014-03-26</td>\n",
       "      <td>96 days</td>\n",
       "      <td>400.0</td>\n",
       "      <td>2014-01-01</td>\n",
       "      <td>2014-12-31</td>\n",
       "      <td>84 days 00:00:00</td>\n",
       "    </tr>\n",
       "    <tr>\n",
       "      <th>4</th>\n",
       "      <td>656933.0</td>\n",
       "      <td>2013-12-17</td>\n",
       "      <td>2014-02-13</td>\n",
       "      <td>58 days</td>\n",
       "      <td>425.0</td>\n",
       "      <td>2013-01-01</td>\n",
       "      <td>2013-12-31</td>\n",
       "      <td>14 days 00:00:00</td>\n",
       "    </tr>\n",
       "    <tr>\n",
       "      <th>...</th>\n",
       "      <td>...</td>\n",
       "      <td>...</td>\n",
       "      <td>...</td>\n",
       "      <td>...</td>\n",
       "      <td>...</td>\n",
       "      <td>...</td>\n",
       "      <td>...</td>\n",
       "      <td>...</td>\n",
       "    </tr>\n",
       "    <tr>\n",
       "      <th>1419604</th>\n",
       "      <td>989109.0</td>\n",
       "      <td>2015-11-13</td>\n",
       "      <td>2016-01-03</td>\n",
       "      <td>51 days</td>\n",
       "      <td>2425.0</td>\n",
       "      <td>2016-01-01</td>\n",
       "      <td>2016-12-31</td>\n",
       "      <td>2 days 00:00:00</td>\n",
       "    </tr>\n",
       "    <tr>\n",
       "      <th>1419605</th>\n",
       "      <td>989143.0</td>\n",
       "      <td>2015-11-03</td>\n",
       "      <td>2016-01-05</td>\n",
       "      <td>63 days</td>\n",
       "      <td>100.0</td>\n",
       "      <td>2015-01-01</td>\n",
       "      <td>2015-12-31</td>\n",
       "      <td>58 days 00:00:00</td>\n",
       "    </tr>\n",
       "    <tr>\n",
       "      <th>1419605</th>\n",
       "      <td>989143.0</td>\n",
       "      <td>2015-11-03</td>\n",
       "      <td>2016-01-05</td>\n",
       "      <td>63 days</td>\n",
       "      <td>100.0</td>\n",
       "      <td>2016-01-01</td>\n",
       "      <td>2016-12-31</td>\n",
       "      <td>4 days 00:00:00</td>\n",
       "    </tr>\n",
       "    <tr>\n",
       "      <th>1419606</th>\n",
       "      <td>989240.0</td>\n",
       "      <td>2015-11-03</td>\n",
       "      <td>2016-01-03</td>\n",
       "      <td>61 days</td>\n",
       "      <td>175.0</td>\n",
       "      <td>2015-01-01</td>\n",
       "      <td>2015-12-31</td>\n",
       "      <td>58 days 00:00:00</td>\n",
       "    </tr>\n",
       "    <tr>\n",
       "      <th>1419606</th>\n",
       "      <td>989240.0</td>\n",
       "      <td>2015-11-03</td>\n",
       "      <td>2016-01-03</td>\n",
       "      <td>61 days</td>\n",
       "      <td>175.0</td>\n",
       "      <td>2016-01-01</td>\n",
       "      <td>2016-12-31</td>\n",
       "      <td>2 days 00:00:00</td>\n",
       "    </tr>\n",
       "  </tbody>\n",
       "</table>\n",
       "<p>305295 rows × 8 columns</p>\n",
       "</div>"
      ],
      "text/plain": [
       "          loan_id disburse_time planned_expiration_time duration  loan_amount  \\\n",
       "0        657307.0    2013-12-22              2014-02-14  54 days        125.0   \n",
       "0        657307.0    2013-12-22              2014-02-14  54 days        125.0   \n",
       "1        657259.0    2013-12-20              2014-03-26  96 days        400.0   \n",
       "1        657259.0    2013-12-20              2014-03-26  96 days        400.0   \n",
       "4        656933.0    2013-12-17              2014-02-13  58 days        425.0   \n",
       "...           ...           ...                     ...      ...          ...   \n",
       "1419604  989109.0    2015-11-13              2016-01-03  51 days       2425.0   \n",
       "1419605  989143.0    2015-11-03              2016-01-05  63 days        100.0   \n",
       "1419605  989143.0    2015-11-03              2016-01-05  63 days        100.0   \n",
       "1419606  989240.0    2015-11-03              2016-01-03  61 days        175.0   \n",
       "1419606  989240.0    2015-11-03              2016-01-03  61 days        175.0   \n",
       "\n",
       "        start_time   end_time              days  \n",
       "0       2013-01-01 2013-12-31   9 days 00:00:00  \n",
       "0       2014-01-01 2014-12-31  44 days 00:00:00  \n",
       "1       2013-01-01 2013-12-31  11 days 00:00:00  \n",
       "1       2014-01-01 2014-12-31  84 days 00:00:00  \n",
       "4       2013-01-01 2013-12-31  14 days 00:00:00  \n",
       "...            ...        ...               ...  \n",
       "1419604 2016-01-01 2016-12-31   2 days 00:00:00  \n",
       "1419605 2015-01-01 2015-12-31  58 days 00:00:00  \n",
       "1419605 2016-01-01 2016-12-31   4 days 00:00:00  \n",
       "1419606 2015-01-01 2015-12-31  58 days 00:00:00  \n",
       "1419606 2016-01-01 2016-12-31   2 days 00:00:00  \n",
       "\n",
       "[305295 rows x 8 columns]"
      ]
     },
     "execution_count": 87,
     "metadata": {},
     "output_type": "execute_result"
    }
   ],
   "source": [
    "multiple_year_loan"
   ]
  },
  {
   "cell_type": "code",
   "execution_count": 88,
   "metadata": {},
   "outputs": [],
   "source": [
    "# now changing the format -> needed for following operation\n",
    "multiple_year_loan['days'] = pd.to_timedelta(multiple_year_loan['days'])"
   ]
  },
  {
   "cell_type": "code",
   "execution_count": 89,
   "metadata": {},
   "outputs": [],
   "source": [
    "multiple_year_loan['days'] = multiple_year_loan['days'].dt.days.astype('int16')"
   ]
  },
  {
   "cell_type": "code",
   "execution_count": 90,
   "metadata": {},
   "outputs": [],
   "source": [
    "multiple_year_loan['duration'] = multiple_year_loan['duration'].dt.days.astype('int16')"
   ]
  },
  {
   "cell_type": "code",
   "execution_count": 91,
   "metadata": {},
   "outputs": [
    {
     "data": {
      "text/html": [
       "<div>\n",
       "<style scoped>\n",
       "    .dataframe tbody tr th:only-of-type {\n",
       "        vertical-align: middle;\n",
       "    }\n",
       "\n",
       "    .dataframe tbody tr th {\n",
       "        vertical-align: top;\n",
       "    }\n",
       "\n",
       "    .dataframe thead th {\n",
       "        text-align: right;\n",
       "    }\n",
       "</style>\n",
       "<table border=\"1\" class=\"dataframe\">\n",
       "  <thead>\n",
       "    <tr style=\"text-align: right;\">\n",
       "      <th></th>\n",
       "      <th>loan_id</th>\n",
       "      <th>disburse_time</th>\n",
       "      <th>planned_expiration_time</th>\n",
       "      <th>duration</th>\n",
       "      <th>loan_amount</th>\n",
       "      <th>start_time</th>\n",
       "      <th>end_time</th>\n",
       "      <th>days</th>\n",
       "    </tr>\n",
       "  </thead>\n",
       "  <tbody>\n",
       "    <tr>\n",
       "      <th>0</th>\n",
       "      <td>657307.0</td>\n",
       "      <td>2013-12-22</td>\n",
       "      <td>2014-02-14</td>\n",
       "      <td>54</td>\n",
       "      <td>125.0</td>\n",
       "      <td>2013-01-01</td>\n",
       "      <td>2013-12-31</td>\n",
       "      <td>9</td>\n",
       "    </tr>\n",
       "    <tr>\n",
       "      <th>0</th>\n",
       "      <td>657307.0</td>\n",
       "      <td>2013-12-22</td>\n",
       "      <td>2014-02-14</td>\n",
       "      <td>54</td>\n",
       "      <td>125.0</td>\n",
       "      <td>2014-01-01</td>\n",
       "      <td>2014-12-31</td>\n",
       "      <td>44</td>\n",
       "    </tr>\n",
       "    <tr>\n",
       "      <th>1</th>\n",
       "      <td>657259.0</td>\n",
       "      <td>2013-12-20</td>\n",
       "      <td>2014-03-26</td>\n",
       "      <td>96</td>\n",
       "      <td>400.0</td>\n",
       "      <td>2013-01-01</td>\n",
       "      <td>2013-12-31</td>\n",
       "      <td>11</td>\n",
       "    </tr>\n",
       "    <tr>\n",
       "      <th>1</th>\n",
       "      <td>657259.0</td>\n",
       "      <td>2013-12-20</td>\n",
       "      <td>2014-03-26</td>\n",
       "      <td>96</td>\n",
       "      <td>400.0</td>\n",
       "      <td>2014-01-01</td>\n",
       "      <td>2014-12-31</td>\n",
       "      <td>84</td>\n",
       "    </tr>\n",
       "    <tr>\n",
       "      <th>4</th>\n",
       "      <td>656933.0</td>\n",
       "      <td>2013-12-17</td>\n",
       "      <td>2014-02-13</td>\n",
       "      <td>58</td>\n",
       "      <td>425.0</td>\n",
       "      <td>2013-01-01</td>\n",
       "      <td>2013-12-31</td>\n",
       "      <td>14</td>\n",
       "    </tr>\n",
       "  </tbody>\n",
       "</table>\n",
       "</div>"
      ],
      "text/plain": [
       "    loan_id disburse_time planned_expiration_time  duration  loan_amount  \\\n",
       "0  657307.0    2013-12-22              2014-02-14        54        125.0   \n",
       "0  657307.0    2013-12-22              2014-02-14        54        125.0   \n",
       "1  657259.0    2013-12-20              2014-03-26        96        400.0   \n",
       "1  657259.0    2013-12-20              2014-03-26        96        400.0   \n",
       "4  656933.0    2013-12-17              2014-02-13        58        425.0   \n",
       "\n",
       "  start_time   end_time  days  \n",
       "0 2013-01-01 2013-12-31     9  \n",
       "0 2014-01-01 2014-12-31    44  \n",
       "1 2013-01-01 2013-12-31    11  \n",
       "1 2014-01-01 2014-12-31    84  \n",
       "4 2013-01-01 2013-12-31    14  "
      ]
     },
     "execution_count": 91,
     "metadata": {},
     "output_type": "execute_result"
    }
   ],
   "source": [
    "multiple_year_loan.head()"
   ]
  },
  {
   "cell_type": "code",
   "execution_count": 92,
   "metadata": {},
   "outputs": [],
   "source": [
    "multiple_year_loan['fraction_per_year'] = (multiple_year_loan['loan_amount']/multiple_year_loan['duration']) * multiple_year_loan['days']"
   ]
  },
  {
   "cell_type": "code",
   "execution_count": 93,
   "metadata": {},
   "outputs": [
    {
     "data": {
      "text/html": [
       "<div>\n",
       "<style scoped>\n",
       "    .dataframe tbody tr th:only-of-type {\n",
       "        vertical-align: middle;\n",
       "    }\n",
       "\n",
       "    .dataframe tbody tr th {\n",
       "        vertical-align: top;\n",
       "    }\n",
       "\n",
       "    .dataframe thead th {\n",
       "        text-align: right;\n",
       "    }\n",
       "</style>\n",
       "<table border=\"1\" class=\"dataframe\">\n",
       "  <thead>\n",
       "    <tr style=\"text-align: right;\">\n",
       "      <th></th>\n",
       "      <th>loan_id</th>\n",
       "      <th>disburse_time</th>\n",
       "      <th>planned_expiration_time</th>\n",
       "      <th>duration</th>\n",
       "      <th>loan_amount</th>\n",
       "      <th>start_time</th>\n",
       "      <th>end_time</th>\n",
       "      <th>days</th>\n",
       "      <th>fraction_per_year</th>\n",
       "    </tr>\n",
       "  </thead>\n",
       "  <tbody>\n",
       "    <tr>\n",
       "      <th>0</th>\n",
       "      <td>657307.0</td>\n",
       "      <td>2013-12-22</td>\n",
       "      <td>2014-02-14</td>\n",
       "      <td>54</td>\n",
       "      <td>125.0</td>\n",
       "      <td>2013-01-01</td>\n",
       "      <td>2013-12-31</td>\n",
       "      <td>9</td>\n",
       "      <td>20.833333</td>\n",
       "    </tr>\n",
       "    <tr>\n",
       "      <th>0</th>\n",
       "      <td>657307.0</td>\n",
       "      <td>2013-12-22</td>\n",
       "      <td>2014-02-14</td>\n",
       "      <td>54</td>\n",
       "      <td>125.0</td>\n",
       "      <td>2014-01-01</td>\n",
       "      <td>2014-12-31</td>\n",
       "      <td>44</td>\n",
       "      <td>101.851852</td>\n",
       "    </tr>\n",
       "    <tr>\n",
       "      <th>1</th>\n",
       "      <td>657259.0</td>\n",
       "      <td>2013-12-20</td>\n",
       "      <td>2014-03-26</td>\n",
       "      <td>96</td>\n",
       "      <td>400.0</td>\n",
       "      <td>2013-01-01</td>\n",
       "      <td>2013-12-31</td>\n",
       "      <td>11</td>\n",
       "      <td>45.833333</td>\n",
       "    </tr>\n",
       "    <tr>\n",
       "      <th>1</th>\n",
       "      <td>657259.0</td>\n",
       "      <td>2013-12-20</td>\n",
       "      <td>2014-03-26</td>\n",
       "      <td>96</td>\n",
       "      <td>400.0</td>\n",
       "      <td>2014-01-01</td>\n",
       "      <td>2014-12-31</td>\n",
       "      <td>84</td>\n",
       "      <td>350.000000</td>\n",
       "    </tr>\n",
       "    <tr>\n",
       "      <th>4</th>\n",
       "      <td>656933.0</td>\n",
       "      <td>2013-12-17</td>\n",
       "      <td>2014-02-13</td>\n",
       "      <td>58</td>\n",
       "      <td>425.0</td>\n",
       "      <td>2013-01-01</td>\n",
       "      <td>2013-12-31</td>\n",
       "      <td>14</td>\n",
       "      <td>102.586207</td>\n",
       "    </tr>\n",
       "  </tbody>\n",
       "</table>\n",
       "</div>"
      ],
      "text/plain": [
       "    loan_id disburse_time planned_expiration_time  duration  loan_amount  \\\n",
       "0  657307.0    2013-12-22              2014-02-14        54        125.0   \n",
       "0  657307.0    2013-12-22              2014-02-14        54        125.0   \n",
       "1  657259.0    2013-12-20              2014-03-26        96        400.0   \n",
       "1  657259.0    2013-12-20              2014-03-26        96        400.0   \n",
       "4  656933.0    2013-12-17              2014-02-13        58        425.0   \n",
       "\n",
       "  start_time   end_time  days  fraction_per_year  \n",
       "0 2013-01-01 2013-12-31     9          20.833333  \n",
       "0 2014-01-01 2014-12-31    44         101.851852  \n",
       "1 2013-01-01 2013-12-31    11          45.833333  \n",
       "1 2014-01-01 2014-12-31    84         350.000000  \n",
       "4 2013-01-01 2013-12-31    14         102.586207  "
      ]
     },
     "execution_count": 93,
     "metadata": {},
     "output_type": "execute_result"
    }
   ],
   "source": [
    "multiple_year_loan.head()"
   ]
  },
  {
   "cell_type": "code",
   "execution_count": 94,
   "metadata": {},
   "outputs": [],
   "source": [
    "temp_mul = multiple_year_loan.groupby(multiple_year_loan['start_time'].dt.year).sum()['fraction_per_year']"
   ]
  },
  {
   "cell_type": "code",
   "execution_count": 95,
   "metadata": {},
   "outputs": [],
   "source": [
    "temp_mul1 = temp_mul.rename_axis('start_time').reset_index(name = 'Mul_tot')"
   ]
  },
  {
   "cell_type": "code",
   "execution_count": 96,
   "metadata": {},
   "outputs": [
    {
     "data": {
      "text/html": [
       "<div>\n",
       "<style scoped>\n",
       "    .dataframe tbody tr th:only-of-type {\n",
       "        vertical-align: middle;\n",
       "    }\n",
       "\n",
       "    .dataframe tbody tr th {\n",
       "        vertical-align: top;\n",
       "    }\n",
       "\n",
       "    .dataframe thead th {\n",
       "        text-align: right;\n",
       "    }\n",
       "</style>\n",
       "<table border=\"1\" class=\"dataframe\">\n",
       "  <thead>\n",
       "    <tr style=\"text-align: right;\">\n",
       "      <th></th>\n",
       "      <th>start_time</th>\n",
       "      <th>Mul_tot</th>\n",
       "    </tr>\n",
       "  </thead>\n",
       "  <tbody>\n",
       "    <tr>\n",
       "      <th>0</th>\n",
       "      <td>2011</td>\n",
       "      <td>6.299118e+05</td>\n",
       "    </tr>\n",
       "    <tr>\n",
       "      <th>1</th>\n",
       "      <td>2012</td>\n",
       "      <td>9.101090e+06</td>\n",
       "    </tr>\n",
       "    <tr>\n",
       "      <th>2</th>\n",
       "      <td>2013</td>\n",
       "      <td>2.476658e+07</td>\n",
       "    </tr>\n",
       "    <tr>\n",
       "      <th>3</th>\n",
       "      <td>2014</td>\n",
       "      <td>2.954837e+07</td>\n",
       "    </tr>\n",
       "    <tr>\n",
       "      <th>4</th>\n",
       "      <td>2015</td>\n",
       "      <td>2.359988e+07</td>\n",
       "    </tr>\n",
       "    <tr>\n",
       "      <th>5</th>\n",
       "      <td>2016</td>\n",
       "      <td>2.074611e+07</td>\n",
       "    </tr>\n",
       "    <tr>\n",
       "      <th>6</th>\n",
       "      <td>2017</td>\n",
       "      <td>2.077317e+07</td>\n",
       "    </tr>\n",
       "    <tr>\n",
       "      <th>7</th>\n",
       "      <td>2018</td>\n",
       "      <td>4.785942e+06</td>\n",
       "    </tr>\n",
       "  </tbody>\n",
       "</table>\n",
       "</div>"
      ],
      "text/plain": [
       "   start_time       Mul_tot\n",
       "0        2011  6.299118e+05\n",
       "1        2012  9.101090e+06\n",
       "2        2013  2.476658e+07\n",
       "3        2014  2.954837e+07\n",
       "4        2015  2.359988e+07\n",
       "5        2016  2.074611e+07\n",
       "6        2017  2.077317e+07\n",
       "7        2018  4.785942e+06"
      ]
     },
     "execution_count": 96,
     "metadata": {},
     "output_type": "execute_result"
    }
   ],
   "source": [
    "temp_mul1 # money of the loans correctly imputed for each year"
   ]
  },
  {
   "cell_type": "code",
   "execution_count": 97,
   "metadata": {},
   "outputs": [
    {
     "data": {
      "text/html": [
       "<div>\n",
       "<style scoped>\n",
       "    .dataframe tbody tr th:only-of-type {\n",
       "        vertical-align: middle;\n",
       "    }\n",
       "\n",
       "    .dataframe tbody tr th {\n",
       "        vertical-align: top;\n",
       "    }\n",
       "\n",
       "    .dataframe thead th {\n",
       "        text-align: right;\n",
       "    }\n",
       "</style>\n",
       "<table border=\"1\" class=\"dataframe\">\n",
       "  <thead>\n",
       "    <tr style=\"text-align: right;\">\n",
       "      <th></th>\n",
       "      <th>loan_id</th>\n",
       "      <th>disburse_time</th>\n",
       "      <th>planned_expiration_time</th>\n",
       "      <th>duration</th>\n",
       "      <th>loan_amount</th>\n",
       "    </tr>\n",
       "  </thead>\n",
       "  <tbody>\n",
       "    <tr>\n",
       "      <th>2</th>\n",
       "      <td>658010.0</td>\n",
       "      <td>2014-01-09</td>\n",
       "      <td>2014-02-15</td>\n",
       "      <td>37 days</td>\n",
       "      <td>400.0</td>\n",
       "    </tr>\n",
       "    <tr>\n",
       "      <th>3</th>\n",
       "      <td>659347.0</td>\n",
       "      <td>2014-01-17</td>\n",
       "      <td>2014-02-21</td>\n",
       "      <td>35 days</td>\n",
       "      <td>625.0</td>\n",
       "    </tr>\n",
       "    <tr>\n",
       "      <th>5</th>\n",
       "      <td>659605.0</td>\n",
       "      <td>2014-01-15</td>\n",
       "      <td>2014-02-20</td>\n",
       "      <td>36 days</td>\n",
       "      <td>350.0</td>\n",
       "    </tr>\n",
       "    <tr>\n",
       "      <th>6</th>\n",
       "      <td>660240.0</td>\n",
       "      <td>2014-01-20</td>\n",
       "      <td>2014-02-21</td>\n",
       "      <td>32 days</td>\n",
       "      <td>125.0</td>\n",
       "    </tr>\n",
       "    <tr>\n",
       "      <th>7</th>\n",
       "      <td>661601.0</td>\n",
       "      <td>2014-01-10</td>\n",
       "      <td>2014-02-25</td>\n",
       "      <td>46 days</td>\n",
       "      <td>1600.0</td>\n",
       "    </tr>\n",
       "  </tbody>\n",
       "</table>\n",
       "</div>"
      ],
      "text/plain": [
       "    loan_id disburse_time planned_expiration_time duration  loan_amount\n",
       "2  658010.0    2014-01-09              2014-02-15  37 days        400.0\n",
       "3  659347.0    2014-01-17              2014-02-21  35 days        625.0\n",
       "5  659605.0    2014-01-15              2014-02-20  36 days        350.0\n",
       "6  660240.0    2014-01-20              2014-02-21  32 days        125.0\n",
       "7  661601.0    2014-01-10              2014-02-25  46 days       1600.0"
      ]
     },
     "execution_count": 97,
     "metadata": {},
     "output_type": "execute_result"
    }
   ],
   "source": [
    "same_year_loan.head() # needed to sum its results to the ones in temp_mul1"
   ]
  },
  {
   "cell_type": "code",
   "execution_count": 98,
   "metadata": {},
   "outputs": [],
   "source": [
    "temp_sing = same_year_loan.groupby(same_year_loan['disburse_time'].dt.year).sum()['loan_amount']"
   ]
  },
  {
   "cell_type": "code",
   "execution_count": 99,
   "metadata": {},
   "outputs": [],
   "source": [
    "temp_sing1 = temp_sing.rename_axis('disburse_time').reset_index(name = 'Sing_tot')"
   ]
  },
  {
   "cell_type": "code",
   "execution_count": 100,
   "metadata": {},
   "outputs": [],
   "source": [
    "final_final = pd.merge(temp_mul1, temp_sing1, right_on = 'disburse_time', left_on = 'start_time', how = 'outer').fillna(0)"
   ]
  },
  {
   "cell_type": "code",
   "execution_count": 101,
   "metadata": {},
   "outputs": [],
   "source": [
    "final_final['amount_per_year'] = final_final['Mul_tot'] + final_final['Sing_tot']"
   ]
  },
  {
   "cell_type": "code",
   "execution_count": 102,
   "metadata": {},
   "outputs": [
    {
     "data": {
      "text/html": [
       "<div>\n",
       "<style scoped>\n",
       "    .dataframe tbody tr th:only-of-type {\n",
       "        vertical-align: middle;\n",
       "    }\n",
       "\n",
       "    .dataframe tbody tr th {\n",
       "        vertical-align: top;\n",
       "    }\n",
       "\n",
       "    .dataframe thead th {\n",
       "        text-align: right;\n",
       "    }\n",
       "</style>\n",
       "<table border=\"1\" class=\"dataframe\">\n",
       "  <thead>\n",
       "    <tr style=\"text-align: right;\">\n",
       "      <th></th>\n",
       "      <th>start_time</th>\n",
       "      <th>amount_per_year</th>\n",
       "    </tr>\n",
       "  </thead>\n",
       "  <tbody>\n",
       "    <tr>\n",
       "      <th>0</th>\n",
       "      <td>2011</td>\n",
       "      <td>6.299118e+05</td>\n",
       "    </tr>\n",
       "    <tr>\n",
       "      <th>1</th>\n",
       "      <td>2012</td>\n",
       "      <td>1.132391e+08</td>\n",
       "    </tr>\n",
       "    <tr>\n",
       "      <th>2</th>\n",
       "      <td>2013</td>\n",
       "      <td>1.246454e+08</td>\n",
       "    </tr>\n",
       "    <tr>\n",
       "      <th>3</th>\n",
       "      <td>2014</td>\n",
       "      <td>1.526974e+08</td>\n",
       "    </tr>\n",
       "    <tr>\n",
       "      <th>4</th>\n",
       "      <td>2015</td>\n",
       "      <td>1.593793e+08</td>\n",
       "    </tr>\n",
       "    <tr>\n",
       "      <th>5</th>\n",
       "      <td>2016</td>\n",
       "      <td>1.589528e+08</td>\n",
       "    </tr>\n",
       "    <tr>\n",
       "      <th>6</th>\n",
       "      <td>2017</td>\n",
       "      <td>1.720576e+08</td>\n",
       "    </tr>\n",
       "    <tr>\n",
       "      <th>7</th>\n",
       "      <td>2018</td>\n",
       "      <td>5.496367e+06</td>\n",
       "    </tr>\n",
       "  </tbody>\n",
       "</table>\n",
       "</div>"
      ],
      "text/plain": [
       "   start_time  amount_per_year\n",
       "0        2011     6.299118e+05\n",
       "1        2012     1.132391e+08\n",
       "2        2013     1.246454e+08\n",
       "3        2014     1.526974e+08\n",
       "4        2015     1.593793e+08\n",
       "5        2016     1.589528e+08\n",
       "6        2017     1.720576e+08\n",
       "7        2018     5.496367e+06"
      ]
     },
     "execution_count": 102,
     "metadata": {},
     "output_type": "execute_result"
    }
   ],
   "source": [
    "final_final[['start_time','amount_per_year']]"
   ]
  }
 ],
 "metadata": {
  "kernelspec": {
   "display_name": "Python 3",
   "language": "python",
   "name": "python3"
  },
  "language_info": {
   "codemirror_mode": {
    "name": "ipython",
    "version": 3
   },
   "file_extension": ".py",
   "mimetype": "text/x-python",
   "name": "python",
   "nbconvert_exporter": "python",
   "pygments_lexer": "ipython3",
   "version": "3.7.3"
  }
 },
 "nbformat": 4,
 "nbformat_minor": 4
}
